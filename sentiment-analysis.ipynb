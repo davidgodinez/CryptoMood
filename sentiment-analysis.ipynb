{
 "cells": [
  {
   "cell_type": "markdown",
   "metadata": {},
   "source": [
    "The following are steps to solve the problem:\n",
    "1. Twitter\n",
    "    a. Access the Twitter api\n",
    "    b. Get the tweets from the user\n",
    "    c. Focus on filtering by crypto hashtags\n",
    "2. Reddit\n",
    "    a. Access the Reddit api\n",
    "    b. Get the posts from the user\n",
    "    c. Focus on filtering by crypto subreddits\n",
    "3. Sentiment Analysis\n",
    "    a. Use the VADER sentiment analysis tool to analyze the sentiment of the tweets and posts\n",
    "    b. Use the sentiment analysis to determine the overall sentiment of the tweets and posts\n",
    "4. Data Visualization\n",
    "5. Access Coinbase API \n",
    "    a. Get the current price of top 10 cryptocurrencies outputted from the sentiment analysis\n",
    "    \n",
    "\n",
    "\n"
   ]
  },
  {
   "cell_type": "markdown",
   "metadata": {},
   "source": []
  },
  {
   "cell_type": "markdown",
   "metadata": {},
   "source": [
    "### CryptoMood Initial Version Steps\n",
    "\n",
    "1. **Twitter**\n",
    "   - [ ] Access the Twitter API.\n",
    "   - [ ] Get tweets by filtering with crypto-related hashtags.\n",
    "   - [ ] Handle API rate limits and implement pagination.\n",
    "   - [ ] Preprocess tweets to remove noise (URLs, mentions, etc.).\n",
    "\n",
    "2. **Reddit**\n",
    "   - [ ] Access the Reddit API.\n",
    "   - [ ] Get posts from crypto-focused subreddits.\n",
    "   - [ ] Handle API rate limits and implement pagination.\n",
    "   - [ ] Preprocess posts to improve sentiment analysis accuracy.\n",
    "\n",
    "3. **Sentiment Analysis**\n",
    "   - [ ] Use the VADER sentiment analysis tool.\n",
    "   - [ ] Analyze sentiment of tweets and posts.\n",
    "   - [ ] Extend VADER with crypto-specific lexicon for better accuracy.\n",
    "\n",
    "4. **Data Visualization**\n",
    "   - [ ] Create interactive dashboards with Plotly/Dash.\n",
    "   - [ ] Display sentiment trends over time.\n",
    "   - [ ] Visualize sentiment distribution among different cryptocurrencies.\n",
    "\n",
    "5. **Access Coinbase API**\n",
    "   - [ ] Fetch current prices of top 10 cryptocurrencies identified by sentiment analysis.\n",
    "   - [ ] Compare sentiment analysis results with historical price data.\n",
    "\n",
    "### Additional Enhancements\n",
    "\n",
    "- [ ] Implement robust error handling for API interactions.\n",
    "- [ ] Consider data privacy and ethical aspects when presenting user-generated content.\n",
    "- [ ] Plan for scalability and transitioning from a notebook to a more user-friendly application.\n",
    "- [ ] Explore incorporating additional data sources like news articles in future versions.\n",
    "- [ ] Investigate custom machine learning models tailored to cryptocurrency discussions.\n"
   ]
  },
  {
   "cell_type": "code",
   "execution_count": 4,
   "metadata": {},
   "outputs": [
    {
     "name": "stdout",
     "output_type": "stream",
     "text": [
      "Polarity: 1.0, Subjectivity: 0.75\n"
     ]
    }
   ],
   "source": [
    "# Using Textblob to analyze sentiment example\n",
    "from textblob import TextBlob\n",
    "\n",
    "text = \"Bitcoin is having a great day!\"\n",
    "blob = TextBlob(text)\n",
    "sentiment = blob.sentiment\n",
    "\n",
    "print(f\"Polarity: {sentiment.polarity}, Subjectivity: {sentiment.subjectivity}\")\n",
    "\n",
    "\n",
    "# Polarity is a float within the range [-1.0, 1.0], where -1 means negative sentiment and 1 means positive sentiment.\n",
    "# Subjectivity is a float within the range [0.0, 1.0] where 0.0 is very objective and 1.0 is very subjective.\n"
   ]
  },
  {
   "cell_type": "code",
   "execution_count": null,
   "metadata": {},
   "outputs": [],
   "source": []
  }
 ],
 "metadata": {
  "kernelspec": {
   "display_name": "env",
   "language": "python",
   "name": "python3"
  },
  "language_info": {
   "codemirror_mode": {
    "name": "ipython",
    "version": 3
   },
   "file_extension": ".py",
   "mimetype": "text/x-python",
   "name": "python",
   "nbconvert_exporter": "python",
   "pygments_lexer": "ipython3",
   "version": "3.9.7"
  }
 },
 "nbformat": 4,
 "nbformat_minor": 2
}
