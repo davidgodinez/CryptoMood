{
 "cells": [
  {
   "cell_type": "markdown",
   "metadata": {},
   "source": [
    "### CryptoMood Initial Version Steps\n",
    "\n",
    "1. **Twitter**\n",
    "   - [x] Access the Twitter API.\n",
    "   - [x] Get tweets by filtering with crypto-related hashtags.\n",
    "   - [x] Handle API rate limits and implement pagination.\n",
    "   - [x] Preprocess tweets to remove noise (URLs, mentions, etc.).\n",
    "\n",
    "2. **Reddit**\n",
    "   - [x] Access the Reddit API.\n",
    "   - [x] Get posts from crypto-focused subreddits.\n",
    "   - [ ] Handle API rate limits and implement pagination.\n",
    "   - [ ] Preprocess posts to improve sentiment analysis accuracy.\n",
    "\n",
    "3. **Sentiment Analysis**\n",
    "   - [x] Use the TextBlob sentiment analysis tool.\n",
    "   - [x] Analyze sentiment of tweets and posts.\n",
    "   - [ ] Aggregate sentiment scores for each cryptocurrency.\n",
    "\n",
    "4. **Data Visualization**\n",
    "   - [ ] Create interactive dashboards with Plotly/Dash.\n",
    "   - [ ] Display sentiment trends over time.\n",
    "   - [ ] Visualize sentiment distribution among different cryptocurrencies.\n",
    "\n",
    "5. **Access Coinbase API**\n",
    "   - [ ] Fetch current prices of top 10 cryptocurrencies identified by sentiment analysis.\n",
    "   - [ ] Compare sentiment analysis results with historical price data.\n",
    "\n",
    "### Additional Enhancements\n",
    "\n",
    "- [ ] Implement robust error handling for API interactions.\n",
    "- [ ] Consider data privacy and ethical aspects when presenting user-generated content.\n",
    "- [ ] Plan for scalability and transitioning from a notebook to a more user-friendly application.\n",
    "- [ ] Explore incorporating additional data sources like news articles in future versions.\n",
    "- [ ] Investigate custom machine learning models tailored to cryptocurrency discussions.\n"
   ]
  },
  {
   "cell_type": "markdown",
   "metadata": {},
   "source": [
    "## Sentiment Analysis Tool"
   ]
  },
  {
   "cell_type": "code",
   "execution_count": null,
   "metadata": {},
   "outputs": [],
   "source": [
    "# Using Textblob to analyze sentiment example\n",
    "from textblob import TextBlob\n",
    "\n",
    "text = \"I THINK dodgecoin is great! I'm so excited to buy more!\"\n",
    "blob = TextBlob(text)\n",
    "sentiment = blob.sentiment\n",
    "\n",
    "print(f\"Polarity: {sentiment.polarity}, Subjectivity: {sentiment.subjectivity}\")\n",
    "\n",
    "\n",
    "# Polarity is a float within the range [-1.0, 1.0], where -1 means negative sentiment and 1 means positive sentiment.\n",
    "# Subjectivity is a float within the range [0.0, 1.0] where 0.0 is very objective and 1.0 is very subjective.\n"
   ]
  },
  {
   "cell_type": "markdown",
   "metadata": {},
   "source": [
    "## Twitter API"
   ]
  },
  {
   "cell_type": "code",
   "execution_count": null,
   "metadata": {},
   "outputs": [],
   "source": [
    "import requests\n",
    "import os\n",
    "from dotenv import load_dotenv\n",
    "\n",
    "\n",
    "load_dotenv()\n",
    "# Now you can access your environment variable securely\n",
    "bearer_token = os.getenv('TWITTER_BEARER_TOKEN')\n",
    "\n",
    "\n",
    "\n",
    "def create_headers(bearer_token):\n",
    "    headers = {\"Authorization\": \"Bearer {}\".format(bearer_token)}\n",
    "    return headers\n",
    "\n",
    "def create_url():\n",
    "    hashtag = \"%23crypto\"\n",
    "    exclude_phrases = \"-\\\"signing up\\\" -\\\"receive tokens\\\" -giveaway\"\n",
    "    additional_keywords = \"\\\"crypto\\\" OR \\\"cryptocurrency\\\"\"\n",
    "    language = \"lang:en\"\n",
    "    # Ensure proper spacing and logical grouping\n",
    "    query = f\"{hashtag} {exclude_phrases} {additional_keywords} {language}\"\n",
    "    # Forming the URL\n",
    "    url = f\"https://api.twitter.com/2/tweets/search/recent?query={query}&tweet.fields=author_id,created_at\"\n",
    "    return url\n",
    "\n",
    "\n",
    "def connect_to_endpoint(url, headers):\n",
    "    response = requests.request(\"GET\", url, headers=headers)\n",
    "    if response.status_code != 200:\n",
    "        raise Exception(response.status_code, response.text)\n",
    "    return response.json()\n",
    "\n"
   ]
  },
  {
   "cell_type": "code",
   "execution_count": null,
   "metadata": {},
   "outputs": [],
   "source": [
    "# Set up the URL and headers\n",
    "url = create_url()\n",
    "headers = create_headers(bearer_token)\n",
    "\n",
    "# Make the request\n",
    "json_response = connect_to_endpoint(url, headers)\n",
    "\n",
    "# Print the response\n",
    "print(json_response)\n"
   ]
  },
  {
   "cell_type": "code",
   "execution_count": null,
   "metadata": {},
   "outputs": [],
   "source": [
    "# storing tweet\n",
    "import sqlite3\n",
    "\n",
    "# Connect to SQLite database (or create it if it doesn't exist)\n",
    "conn = sqlite3.connect('crypto_tweets.db')\n",
    "c = conn.cursor()\n",
    "\n",
    "# Create a table to store tweets\n",
    "c.execute('''CREATE TABLE IF NOT EXISTS tweets\n",
    "             (id TEXT PRIMARY KEY, author_id TEXT, created_at TEXT, text TEXT)''')\n",
    "\n",
    "conn.commit()\n",
    "\n"
   ]
  },
  {
   "cell_type": "code",
   "execution_count": null,
   "metadata": {},
   "outputs": [],
   "source": [
    "def insert_tweet_data(json_response):\n",
    "    tweets = json_response.get('data', [])\n",
    "    for tweet in tweets:\n",
    "        c.execute('INSERT OR IGNORE INTO tweets (id, author_id, created_at, text) VALUES (?, ?, ?, ?)',\n",
    "                  (tweet['id'], tweet['author_id'], tweet['created_at'], tweet['text']))\n",
    "\n",
    "    conn.commit()\n",
    "\n",
    "insert_tweet_data(json_response)\n"
   ]
  },
  {
   "cell_type": "code",
   "execution_count": null,
   "metadata": {},
   "outputs": [],
   "source": [
    "c.execute('SELECT * FROM tweets')\n",
    "for row in c.fetchall():\n",
    "    print(row)\n"
   ]
  },
  {
   "cell_type": "code",
   "execution_count": null,
   "metadata": {},
   "outputs": [],
   "source": [
    "c.execute('SELECT COUNT (*) FROM tweets')\n",
    "print(c.fetchone()[0])"
   ]
  },
  {
   "cell_type": "code",
   "execution_count": null,
   "metadata": {},
   "outputs": [],
   "source": [
    "import pandas as pd\n",
    "import sqlite3\n",
    "\n",
    "# Connect to your SQLite database\n",
    "conn = sqlite3.connect('crypto_tweets.db')\n",
    "\n",
    "# SQL query to select all tweets\n",
    "query = \"SELECT * FROM tweets\"\n",
    "\n",
    "# Load the results of the query into a DataFrame\n",
    "tweets_df = pd.read_sql_query(query, conn)\n",
    "\n",
    "# Close the connection\n",
    "conn.close()\n",
    "\n",
    "# Now you can work with the tweets_df DataFrame\n",
    "print(tweets_df.head())\n"
   ]
  },
  {
   "cell_type": "code",
   "execution_count": null,
   "metadata": {},
   "outputs": [],
   "source": [
    "# Example: Count tweets by author_id\n",
    "tweet_counts = tweets_df['author_id'].value_counts()\n",
    "print(tweet_counts.head())\n",
    "\n",
    "# Example: Simple sentiment analysis (assuming you have a 'sentiment' column)\n",
    "# You might need to calculate this column beforehand\n",
    "if 'sentiment' in tweets_df.columns:\n",
    "    average_sentiment = tweets_df['sentiment'].mean()\n",
    "    print(f\"Average Sentiment: {average_sentiment}\")\n"
   ]
  },
  {
   "cell_type": "code",
   "execution_count": null,
   "metadata": {},
   "outputs": [],
   "source": [
    "tweets_df['text'] = tweets_df['text'].astype(str)\n",
    "print(tweets_df['text'][0])"
   ]
  },
  {
   "cell_type": "code",
   "execution_count": null,
   "metadata": {},
   "outputs": [],
   "source": [
    "from textblob import TextBlob\n",
    "\n",
    "\n",
    "tweet = tweets_df['text'].iloc[-1]\n",
    "print(tweet)\n",
    "\n",
    "tweet_sentiment = TextBlob(tweet).sentiment\n",
    "print(tweet_sentiment)"
   ]
  },
  {
   "cell_type": "code",
   "execution_count": null,
   "metadata": {},
   "outputs": [],
   "source": [
    "# Using Textblob to analyze sentiment example\n",
    "\n",
    "\n",
    "blob = TextBlob(tweet)\n",
    "sentiment = blob.sentiment\n",
    "\n",
    "print(f\"Polarity: {sentiment.polarity}, Subjectivity: {sentiment.subjectivity}\")\n",
    "\n",
    "\n",
    "# Polarity is a float within the range [-1.0, 1.0], where -1 means negative sentiment and 1 means positive sentiment.\n",
    "# Subjectivity is a float within the range [0.0, 1.0] where 0.0 is very objective and 1.0 is very subjective.\n"
   ]
  },
  {
   "cell_type": "code",
   "execution_count": null,
   "metadata": {},
   "outputs": [],
   "source": [
    "import praw\n",
    "from dotenv import load_dotenv\n",
    "import os"
   ]
  },
  {
   "cell_type": "markdown",
   "metadata": {},
   "source": [
    "## Reddit API"
   ]
  },
  {
   "cell_type": "code",
   "execution_count": null,
   "metadata": {},
   "outputs": [],
   "source": [
    "\n",
    "\n",
    "# Load environment variables from .env file\n",
    "load_dotenv()\n",
    "\n",
    "# Access environment variables\n",
    "client_id = os.getenv('REDDIT_CLIENT_ID')\n",
    "client_secret = os.getenv('REDDIT_CLIENT_SECRET')\n",
    "user_agent = os.getenv('REDDIT_USER_AGENT')\n",
    "username = os.getenv('REDDIT_USERNAME')\n",
    "password = os.getenv('REDDIT_PASSWORD')\n",
    "\n",
    "\n",
    "\n",
    "# Initialize PRAW with your credentials\n",
    "reddit = praw.Reddit(client_id=client_id,\n",
    "                     client_secret=\tclient_secret,\n",
    "                     user_agent=user_agent,\n",
    "                     username= username,\n",
    "                     password= password)\n",
    "print('Done')\n"
   ]
  },
  {
   "cell_type": "code",
   "execution_count": null,
   "metadata": {},
   "outputs": [],
   "source": [
    "subreddit = reddit.subreddit(\"crypto\")\n",
    "\n",
    "for post in subreddit.top(limit=10):\n",
    "    print(post.title, post.url)\n"
   ]
  }
 ],
 "metadata": {
  "kernelspec": {
   "display_name": "env",
   "language": "python",
   "name": "python3"
  },
  "language_info": {
   "codemirror_mode": {
    "name": "ipython",
    "version": 3
   },
   "file_extension": ".py",
   "mimetype": "text/x-python",
   "name": "python",
   "nbconvert_exporter": "python",
   "pygments_lexer": "ipython3",
   "version": "3.9.7"
  }
 },
 "nbformat": 4,
 "nbformat_minor": 2
}
