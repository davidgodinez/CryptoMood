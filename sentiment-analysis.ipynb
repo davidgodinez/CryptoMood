{
 "cells": [
  {
   "cell_type": "markdown",
   "metadata": {},
   "source": [
    "### CryptoMood Initial Version Steps\n",
    "\n",
    "1. **Twitter**\n",
    "   - [ ] Access the Twitter API.\n",
    "   - [ ] Get tweets by filtering with crypto-related hashtags.\n",
    "   - [ ] Handle API rate limits and implement pagination.\n",
    "   - [ ] Preprocess tweets to remove noise (URLs, mentions, etc.).\n",
    "\n",
    "2. **Reddit**\n",
    "   - [ ] Access the Reddit API.\n",
    "   - [ ] Get posts from crypto-focused subreddits.\n",
    "   - [ ] Handle API rate limits and implement pagination.\n",
    "   - [ ] Preprocess posts to improve sentiment analysis accuracy.\n",
    "\n",
    "3. **Sentiment Analysis**\n",
    "   - [ ] Use the TextBlob sentiment analysis tool.\n",
    "   - [ ] Analyze sentiment of tweets and posts.\n",
    "   - [ ] Extend VADER with crypto-specific lexicon for better accuracy.\n",
    "\n",
    "4. **Data Visualization**\n",
    "   - [ ] Create interactive dashboards with Plotly/Dash.\n",
    "   - [ ] Display sentiment trends over time.\n",
    "   - [ ] Visualize sentiment distribution among different cryptocurrencies.\n",
    "\n",
    "5. **Access Coinbase API**\n",
    "   - [ ] Fetch current prices of top 10 cryptocurrencies identified by sentiment analysis.\n",
    "   - [ ] Compare sentiment analysis results with historical price data.\n",
    "\n",
    "### Additional Enhancements\n",
    "\n",
    "- [ ] Implement robust error handling for API interactions.\n",
    "- [ ] Consider data privacy and ethical aspects when presenting user-generated content.\n",
    "- [ ] Plan for scalability and transitioning from a notebook to a more user-friendly application.\n",
    "- [ ] Explore incorporating additional data sources like news articles in future versions.\n",
    "- [ ] Investigate custom machine learning models tailored to cryptocurrency discussions.\n"
   ]
  },
  {
   "cell_type": "markdown",
   "metadata": {},
   "source": [
    "## Sentiment Analysis Tool"
   ]
  },
  {
   "cell_type": "code",
   "execution_count": 4,
   "metadata": {},
   "outputs": [
    {
     "name": "stdout",
     "output_type": "stream",
     "text": [
      "Polarity: 1.0, Subjectivity: 0.75\n"
     ]
    }
   ],
   "source": [
    "# Using Textblob to analyze sentiment example\n",
    "from textblob import TextBlob\n",
    "\n",
    "text = \"Bitcoin is having a great day!\"\n",
    "blob = TextBlob(text)\n",
    "sentiment = blob.sentiment\n",
    "\n",
    "print(f\"Polarity: {sentiment.polarity}, Subjectivity: {sentiment.subjectivity}\")\n",
    "\n",
    "\n",
    "# Polarity is a float within the range [-1.0, 1.0], where -1 means negative sentiment and 1 means positive sentiment.\n",
    "# Subjectivity is a float within the range [0.0, 1.0] where 0.0 is very objective and 1.0 is very subjective.\n"
   ]
  },
  {
   "cell_type": "markdown",
   "metadata": {},
   "source": [
    "## Twitter API"
   ]
  },
  {
   "cell_type": "code",
   "execution_count": 12,
   "metadata": {},
   "outputs": [
    {
     "name": "stdout",
     "output_type": "stream",
     "text": [
      "{'data': [{'text': 'RT @Piqueenreal: Retweet retweet 🚀🚀🚀✅💯\\n\\nNumber of X followers : Pi Vs top ranked Cryptos\\n\\nX 关注者数量：Pi 与排名最高的加密货币\\n\\n@PiCoreTeam , #PiNetwork,…', 'author_id': '1465201393644421122', 'created_at': '2024-02-16T22:33:08.000Z', 'edit_history_tweet_ids': ['1758620555664842904'], 'id': '1758620555664842904'}, {'text': \". @NinjaBlazeApp has launched its own collection of NFTs that give you an advantage in the game 👀\\n\\nhttps://t.co/SBXZ1twRJS\\n\\nMinted 6,755/10,000 \\n\\nNFTs are selling out very quickly, so we don't have much time, I'll take one myself the other day 📱\\n\\n$INJ #Injective #NFT #Crypto https://t.co/n9DpcDxxmt\", 'author_id': '1638945783138361353', 'created_at': '2024-02-16T22:33:07.000Z', 'edit_history_tweet_ids': ['1758620552602734597'], 'id': '1758620552602734597'}, {'text': 'RT @AirdropDet: 🔍 MainnetZ #Airdrop\\n\\n🏆 Airdrop Pool: 15,000 NETZ+ 600 USDT\\n\\n🔴 Start the airdrop bot: https://t.co/3apbs1T4oa\\n\\n🔘 Do the task…', 'author_id': '1442122794402152454', 'created_at': '2024-02-16T22:33:07.000Z', 'edit_history_tweet_ids': ['1758620552431091815'], 'id': '1758620552431091815'}, {'text': 'RT @Missy__Crypto: $20 in 240 Mins 💛🐱🐈\\n\\n- RT this \\n- RT, Like &amp; comment  \" #Dollarmoon is the next biggest #bullrun gem Top #crypto for X10…', 'author_id': '1708168875593052161', 'created_at': '2024-02-16T22:33:07.000Z', 'edit_history_tweet_ids': ['1758620550644297912'], 'id': '1758620550644297912'}, {'text': '@allyssa_rispoli @dollarmoonio @dollarmoonio is the next biggest #bullrun gem. Top #crypto for X100 chance on $BNB', 'author_id': '1741220590458204160', 'created_at': '2024-02-16T22:33:07.000Z', 'edit_history_tweet_ids': ['1758620550392410294'], 'id': '1758620550392410294'}, {'text': 'RT @Missy__Crypto: $20 in 240 Mins 💛🍅🌽\\n\\n- RT + RT, Like &amp; comment this 👇 on quoted tweet below \\n\\n \" @dollarmoonio is the next biggest #bull…', 'author_id': '1744567694706487296', 'created_at': '2024-02-16T22:33:06.000Z', 'edit_history_tweet_ids': ['1758620547447955532'], 'id': '1758620547447955532'}, {'text': 'RT @cryptocrypti1: $SRM Hits New ATH 💹\\n\\n13M mc \\n\\n50x-100x gem 💎\\n\\n#100xgem #Crypto #altcoins #layer1 https://t.co/AbbRnPQCrt', 'author_id': '1671901955281637376', 'created_at': '2024-02-16T22:33:06.000Z', 'edit_history_tweet_ids': ['1758620547225674195'], 'id': '1758620547225674195'}, {'text': 'RT @megwit_13: Do you want easy X100 #BNB project ?\\nsome #Crypto Gem for the incoming #bullrun ?\\n\\ntry to hold @dollarmoonio , one of the be…', 'author_id': '1746823369826467840', 'created_at': '2024-02-16T22:33:06.000Z', 'edit_history_tweet_ids': ['1758620544591597989'], 'id': '1758620544591597989'}, {'text': \"@BTSE_Official @DeFi #RATİO token @RatioFinance\\n$0.0077 Max supply 100 Million\\nGateio buy\\n#solana network\\n#Crypto\\u202f#altcoin #memecoin #coin #SOL Don't miss this opportunity before listing the ratio token on the Kraken exchange. Blockchain doesn't lie. solscan-holders you can look at the 3nd wallet https://t.co/IPcqpKXM0l\", 'author_id': '1672349918378483712', 'created_at': '2024-02-16T22:33:05.000Z', 'edit_history_tweet_ids': ['1758620542586802581'], 'id': '1758620542586802581'}, {'text': 'RT @thebenigroup: If you see #Crypto chart like that .. for sure you are front a X100 #bullrun Gem! So do not miss it out!\\nThis is the char…', 'author_id': '1732353856166633472', 'created_at': '2024-02-16T22:33:04.000Z', 'edit_history_tweet_ids': ['1758620539785244964'], 'id': '1758620539785244964'}], 'meta': {'newest_id': '1758620555664842904', 'oldest_id': '1758620539785244964', 'result_count': 10, 'next_token': 'b26v89c19zqg8o3fr5qg593hqpw202edvwta31049gha5'}}\n"
     ]
    }
   ],
   "source": [
    "import requests\n",
    "import os\n",
    "from dotenv import load_dotenv\n",
    "\n",
    "\n",
    "load_dotenv()\n",
    "# Now you can access your environment variable securely\n",
    "bearer_token = os.getenv('TWITTER_BEARER_TOKEN')\n",
    "\n",
    "# Replace 'YOUR_BEARER_TOKEN' with your actual Bearer Token\n",
    "bearer_token = 'AAAAAAAAAAAAAAAAAAAAAOWisQEAAAAA0SI080kDiBsW6dkCIarxBExwt%2BU%3DaOGJ6QtXEVPESGiOLzymHuaHuIMujoN9STGbLuGqoqTlvfI3Ak'\n",
    "\n",
    "def create_headers(bearer_token):\n",
    "    headers = {\"Authorization\": \"Bearer {}\".format(bearer_token)}\n",
    "    return headers\n",
    "\n",
    "def create_url():\n",
    "    # Replace '#crypto' with any other hashtag you're interested in\n",
    "    hashtag = \"%23crypto\"  # URL encoded '#'\n",
    "    url = f\"https://api.twitter.com/2/tweets/search/recent?query={hashtag}&tweet.fields=author_id,created_at\"\n",
    "    return url\n",
    "\n",
    "def connect_to_endpoint(url, headers):\n",
    "    response = requests.request(\"GET\", url, headers=headers)\n",
    "    if response.status_code != 200:\n",
    "        raise Exception(response.status_code, response.text)\n",
    "    return response.json()\n",
    "\n",
    "# Set up the URL and headers\n",
    "url = create_url()\n",
    "headers = create_headers(bearer_token)\n",
    "\n",
    "# Make the request\n",
    "json_response = connect_to_endpoint(url, headers)\n",
    "\n",
    "# Print the response\n",
    "print(json_response)\n"
   ]
  },
  {
   "cell_type": "code",
   "execution_count": 14,
   "metadata": {},
   "outputs": [
    {
     "name": "stdout",
     "output_type": "stream",
     "text": [
      "RT @Piqueenreal: Retweet retweet 🚀🚀🚀✅💯\n",
      "\n",
      "Number of X followers : Pi Vs top ranked Cryptos\n",
      "\n",
      "X 关注者数量：Pi 与排名最高的加密货币\n",
      "\n",
      "@PiCoreTeam , #PiNetwork,…\n"
     ]
    }
   ],
   "source": [
    "tweet = json_response['data'][0]['text']\n",
    "print(tweet)"
   ]
  },
  {
   "cell_type": "code",
   "execution_count": 18,
   "metadata": {},
   "outputs": [
    {
     "name": "stdout",
     "output_type": "stream",
     "text": [
      "Polarity: 0.5, Subjectivity: 0.5\n"
     ]
    }
   ],
   "source": [
    "# Using Textblob to analyze sentiment example\n",
    "from textblob import TextBlob\n",
    "\n",
    "text = \"Bitcoin is having a great day!\"\n",
    "blob = TextBlob(tweet)\n",
    "sentiment = blob.sentiment\n",
    "\n",
    "print(f\"Polarity: {sentiment.polarity}, Subjectivity: {sentiment.subjectivity}\")\n",
    "\n",
    "\n",
    "# Polarity is a float within the range [-1.0, 1.0], where -1 means negative sentiment and 1 means positive sentiment.\n",
    "# Subjectivity is a float within the range [0.0, 1.0] where 0.0 is very objective and 1.0 is very subjective.\n"
   ]
  },
  {
   "cell_type": "code",
   "execution_count": 1,
   "metadata": {},
   "outputs": [],
   "source": [
    "import praw\n",
    "from dotenv import load_dotenv\n",
    "import os"
   ]
  },
  {
   "cell_type": "markdown",
   "metadata": {},
   "source": [
    "## Reddit API"
   ]
  },
  {
   "cell_type": "code",
   "execution_count": 2,
   "metadata": {},
   "outputs": [
    {
     "name": "stdout",
     "output_type": "stream",
     "text": [
      "Done\n"
     ]
    }
   ],
   "source": [
    "\n",
    "\n",
    "# Load environment variables from .env file\n",
    "load_dotenv()\n",
    "\n",
    "# Access environment variables\n",
    "client_id = os.getenv('REDDIT_CLIENT_ID')\n",
    "client_secret = os.getenv('REDDIT_CLIENT_SECRET')\n",
    "user_agent = os.getenv('REDDIT_USER_AGENT')\n",
    "username = os.getenv('REDDIT_USERNAME')\n",
    "password = os.getenv('REDDIT_PASSWORD')\n",
    "\n",
    "\n",
    "\n",
    "# Initialize PRAW with your credentials\n",
    "reddit = praw.Reddit(client_id=client_id,\n",
    "                     client_secret=\tclient_secret,\n",
    "                     user_agent=user_agent,\n",
    "                     username= username,\n",
    "                     password= password)\n",
    "print('Done')\n"
   ]
  },
  {
   "cell_type": "code",
   "execution_count": null,
   "metadata": {},
   "outputs": [],
   "source": []
  },
  {
   "cell_type": "code",
   "execution_count": 4,
   "metadata": {},
   "outputs": [
    {
     "name": "stdout",
     "output_type": "stream",
     "text": [
      "Wikileaks latest insurance files don't match hashes https://www.reddit.com/r/crypto/comments/5cz1fz/wikileaks_latest_insurance_files_dont_match_hashes/\n",
      "Crypto is not cryptocurrency http://www.cryptoisnotcryptocurrency.com\n",
      "DoJ Rule 41 passively changes this Thursday, Dec 1st; Using tools like VPN or anonymizers like Tor could land you on a watch list for exploratory scanning by FBI https://www.reddit.com/r/crypto/comments/5figex/doj_rule_41_passively_changes_this_thursday_dec/\n",
      "Announcing the first SHA1 collision https://security.googleblog.com/2017/02/announcing-first-sha1-collision.html\n",
      "A sneaky attempt to end encryption is worming its way through Congress https://www.theverge.com/interface/2020/3/12/21174815/earn-it-act-encryption-killer-lindsay-graham-match-group\n",
      "The billionaire chief executive of WhatsApp, Jan Koum, is planning to leave the company after clashing with its parent, Facebook, over the popular messaging service’s strategy and Facebook’s attempts to use its personal data and weaken its encryption https://www.washingtonpost.com/business/economy/whatsapp-founder-plans-to-leave-after-broad-clashes-with-parent-facebook/2018/04/30/49448dd2-4ca9-11e8-84a0-458a1aa9ac0a_story.html\n",
      "Truecrypt shutting down?! \"development of TrueCrypt was ended in 5/2014\" http://truecrypt.sourceforge.net/\n",
      "French Police Report On Paris Attacks Shows No Evidence Of Encryption... So NY Times Invents Evidence Itself https://www.techdirt.com/articles/20160321/00392533965/french-police-report-paris-attacks-shows-no-evidence-encryption-so-ny-times-invents-evidence-itself.shtml\n",
      "The White House and Equifax Agree: Social Security Numbers Should Go -- Officials are looking into “what would be a better system” that utilizes the latest technologies, including a “modern cryptographic identifier,” such as public and private keys. https://www.bloomberg.com/news/articles/2017-10-03/white-house-and-equifax-agree-social-security-numbers-should-go\n",
      "David Cameron, Dear Leader of UK, to ban end-to-end crypto http://www.independent.co.uk/life-style/gadgets-and-tech/news/whatsapp-and-snapchat-could-be-banned-under-new-surveillance-plans-9973035.html\n"
     ]
    }
   ],
   "source": [
    "subreddit = reddit.subreddit(\"crypto\")\n",
    "\n",
    "for post in subreddit.top(limit=10):\n",
    "    print(post.title, post.url)\n"
   ]
  },
  {
   "cell_type": "code",
   "execution_count": null,
   "metadata": {},
   "outputs": [],
   "source": []
  }
 ],
 "metadata": {
  "kernelspec": {
   "display_name": "env",
   "language": "python",
   "name": "python3"
  },
  "language_info": {
   "codemirror_mode": {
    "name": "ipython",
    "version": 3
   },
   "file_extension": ".py",
   "mimetype": "text/x-python",
   "name": "python",
   "nbconvert_exporter": "python",
   "pygments_lexer": "ipython3",
   "version": "3.9.7"
  }
 },
 "nbformat": 4,
 "nbformat_minor": 2
}
