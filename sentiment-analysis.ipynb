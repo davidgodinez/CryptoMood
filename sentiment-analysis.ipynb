{
 "cells": [
  {
   "cell_type": "markdown",
   "metadata": {},
   "source": [
    "### CryptoMood Initial Version Steps\n",
    "\n",
    "1. **Twitter**\n",
    "   - [ ] Access the Twitter API.\n",
    "   - [ ] Get tweets by filtering with crypto-related hashtags.\n",
    "   - [ ] Handle API rate limits and implement pagination.\n",
    "   - [ ] Preprocess tweets to remove noise (URLs, mentions, etc.).\n",
    "\n",
    "2. **Reddit**\n",
    "   - [ ] Access the Reddit API.\n",
    "   - [ ] Get posts from crypto-focused subreddits.\n",
    "   - [ ] Handle API rate limits and implement pagination.\n",
    "   - [ ] Preprocess posts to improve sentiment analysis accuracy.\n",
    "\n",
    "3. **Sentiment Analysis**\n",
    "   - [ ] Use the TextBlob sentiment analysis tool.\n",
    "   - [ ] Analyze sentiment of tweets and posts.\n",
    "   - [ ] Extend VADER with crypto-specific lexicon for better accuracy.\n",
    "\n",
    "4. **Data Visualization**\n",
    "   - [ ] Create interactive dashboards with Plotly/Dash.\n",
    "   - [ ] Display sentiment trends over time.\n",
    "   - [ ] Visualize sentiment distribution among different cryptocurrencies.\n",
    "\n",
    "5. **Access Coinbase API**\n",
    "   - [ ] Fetch current prices of top 10 cryptocurrencies identified by sentiment analysis.\n",
    "   - [ ] Compare sentiment analysis results with historical price data.\n",
    "\n",
    "### Additional Enhancements\n",
    "\n",
    "- [ ] Implement robust error handling for API interactions.\n",
    "- [ ] Consider data privacy and ethical aspects when presenting user-generated content.\n",
    "- [ ] Plan for scalability and transitioning from a notebook to a more user-friendly application.\n",
    "- [ ] Explore incorporating additional data sources like news articles in future versions.\n",
    "- [ ] Investigate custom machine learning models tailored to cryptocurrency discussions.\n"
   ]
  },
  {
   "cell_type": "markdown",
   "metadata": {},
   "source": [
    "## Sentiment Analysis Tool"
   ]
  },
  {
   "cell_type": "code",
   "execution_count": 4,
   "metadata": {},
   "outputs": [
    {
     "name": "stdout",
     "output_type": "stream",
     "text": [
      "Polarity: 1.0, Subjectivity: 0.75\n"
     ]
    }
   ],
   "source": [
    "# Using Textblob to analyze sentiment example\n",
    "from textblob import TextBlob\n",
    "\n",
    "text = \"Bitcoin is having a great day!\"\n",
    "blob = TextBlob(text)\n",
    "sentiment = blob.sentiment\n",
    "\n",
    "print(f\"Polarity: {sentiment.polarity}, Subjectivity: {sentiment.subjectivity}\")\n",
    "\n",
    "\n",
    "# Polarity is a float within the range [-1.0, 1.0], where -1 means negative sentiment and 1 means positive sentiment.\n",
    "# Subjectivity is a float within the range [0.0, 1.0] where 0.0 is very objective and 1.0 is very subjective.\n"
   ]
  },
  {
   "cell_type": "markdown",
   "metadata": {},
   "source": [
    "## Twitter API"
   ]
  },
  {
   "cell_type": "code",
   "execution_count": 1,
   "metadata": {},
   "outputs": [
    {
     "name": "stdout",
     "output_type": "stream",
     "text": [
      "{'data': [{'created_at': '2024-02-16T23:44:54.000Z', 'author_id': '1744709818823430144', 'edit_history_tweet_ids': ['1758638615054483621'], 'text': 'RT @safetyhanko: Get up and run to the finish line #Pinetwork...Honoring the history of #Crypto... https://t.co/aWSf6S2Waa', 'id': '1758638615054483621'}, {'created_at': '2024-02-16T23:44:54.000Z', 'author_id': '1865728477', 'edit_history_tweet_ids': ['1758638613347405875'], 'text': 'RT @Punisher_SG: @Lisaautry0101 @Evans36647881 @1000xgirl @squidgrow_ftw @Squid_Grow @Neo_on_chain @Squidgrowfan @squidgrow10000x Wow!! The…', 'id': '1758638613347405875'}, {'created_at': '2024-02-16T23:44:53.000Z', 'author_id': '1678680293367218177', 'edit_history_tweet_ids': ['1758638612772704743'], 'text': 'RT @Missy__Crypto: $20 in 240 Mins 💛🥬🥦\\n\\n- RT + RT, Like &amp; comment this 👇 on quoted tweet below \\n\\n \" @dollarmoonio is the next biggest #bull…', 'id': '1758638612772704743'}, {'created_at': '2024-02-16T23:44:53.000Z', 'author_id': '1615007343967862788', 'edit_history_tweet_ids': ['1758638612533682531'], 'text': \"RT @PrimeXBT: 💳 Credit cards aren't just for shopping , they're your gateway to #crypto\\n\\nIt's time to step into the digital assets space.…\", 'id': '1758638612533682531'}, {'created_at': '2024-02-16T23:44:53.000Z', 'author_id': '1737821893649166336', 'edit_history_tweet_ids': ['1758638609618640973'], 'text': \"RT @DeeprFinance: 🚀 Get ready! Staking on https://t.co/OL15PV1GWh kicks off today at 6 PM CET! 🚀\\n\\nDon't miss out on this opportunity to ear…\", 'id': '1758638609618640973'}, {'created_at': '2024-02-16T23:44:52.000Z', 'author_id': '1525007810118815744', 'edit_history_tweet_ids': ['1758638607525671407'], 'text': 'RT @ZF_lab: NuLink 是一个基于Web3 DApp的 ZK 可证明数据隐私解决方案。获得币安孵化，21获得400万融资\\n根据白皮书介绍有15%给BD&amp;社区激励\\n目前在coinlist上也有500万代币激励测试\\n根据线路图预计Q2发币\\n\\n #Crypto #ETH…', 'id': '1758638607525671407'}, {'created_at': '2024-02-16T23:44:52.000Z', 'author_id': '1725986920671408128', 'edit_history_tweet_ids': ['1758638607425040831'], 'text': 'RT @Crypto__emily: Making my first $100k trading #crypto took me 2+ years.\\n\\nBut going from $100k to $1m+ took me less than a year.\\n\\nNobody…', 'id': '1758638607425040831'}, {'created_at': '2024-02-16T23:44:52.000Z', 'author_id': '1746878026049265664', 'edit_history_tweet_ids': ['1758638605852176398'], 'text': 'RT @Kryptomonach: 🌟 A new partnership has been formed to reward your health in the crypto world.\\n\\n🔥 With the collaboration of CLS Global Ve…', 'id': '1758638605852176398'}, {'created_at': '2024-02-16T23:44:52.000Z', 'author_id': '1716181399495946240', 'edit_history_tweet_ids': ['1758638605512343689'], 'text': 'Is your account Hacked? Reach me on Instagram and Twitter @darkwebcybers for guide on how to recover your account immediately. #gmailhack #gmaildown #hacking #hacked #hackaccount #Anonymous #snapchat #Nfts #Crypto\\n#maahanmuutto #sähkönhinta #hoitajapula https://t.co/qjxkVKmX1t', 'id': '1758638605512343689'}, {'created_at': '2024-02-16T23:44:51.000Z', 'author_id': '1736680768993370112', 'edit_history_tweet_ids': ['1758638604556046405'], 'text': 'RT @Missy__Crypto: $20 in 240 Mins 💛🥗🍿\\n\\n- RT + RT, Like &amp; comment this 👇 on quoted tweet below \\n\\n \" @dollarmoonio is the next biggest #bull…', 'id': '1758638604556046405'}], 'meta': {'newest_id': '1758638615054483621', 'oldest_id': '1758638604556046405', 'result_count': 10, 'next_token': 'b26v89c19zqg8o3fr5qg593svagfr0jwq5k6unssegt4t'}}\n"
     ]
    }
   ],
   "source": [
    "import requests\n",
    "import os\n",
    "from dotenv import load_dotenv\n",
    "\n",
    "\n",
    "load_dotenv()\n",
    "# Now you can access your environment variable securely\n",
    "bearer_token = os.getenv('TWITTER_BEARER_TOKEN')\n",
    "\n",
    "\n",
    "def create_headers(bearer_token):\n",
    "    headers = {\"Authorization\": \"Bearer {}\".format(bearer_token)}\n",
    "    return headers\n",
    "\n",
    "def create_url():\n",
    "    # Replace '#crypto' with any other hashtag you're interested in\n",
    "    hashtag = \"%23crypto\"  # URL encoded '#'\n",
    "    url = f\"https://api.twitter.com/2/tweets/search/recent?query={hashtag}&tweet.fields=author_id,created_at\"\n",
    "    return url\n",
    "\n",
    "def connect_to_endpoint(url, headers):\n",
    "    response = requests.request(\"GET\", url, headers=headers)\n",
    "    if response.status_code != 200:\n",
    "        raise Exception(response.status_code, response.text)\n",
    "    return response.json()\n",
    "\n",
    "# Set up the URL and headers\n",
    "url = create_url()\n",
    "headers = create_headers(bearer_token)\n",
    "\n",
    "# Make the request\n",
    "json_response = connect_to_endpoint(url, headers)\n",
    "\n",
    "# Print the response\n",
    "print(json_response)\n"
   ]
  },
  {
   "cell_type": "code",
   "execution_count": 14,
   "metadata": {},
   "outputs": [
    {
     "name": "stdout",
     "output_type": "stream",
     "text": [
      "RT @Piqueenreal: Retweet retweet 🚀🚀🚀✅💯\n",
      "\n",
      "Number of X followers : Pi Vs top ranked Cryptos\n",
      "\n",
      "X 关注者数量：Pi 与排名最高的加密货币\n",
      "\n",
      "@PiCoreTeam , #PiNetwork,…\n"
     ]
    }
   ],
   "source": [
    "tweet = json_response['data'][0]['text']\n",
    "print(tweet)"
   ]
  },
  {
   "cell_type": "code",
   "execution_count": 18,
   "metadata": {},
   "outputs": [
    {
     "name": "stdout",
     "output_type": "stream",
     "text": [
      "Polarity: 0.5, Subjectivity: 0.5\n"
     ]
    }
   ],
   "source": [
    "# Using Textblob to analyze sentiment example\n",
    "from textblob import TextBlob\n",
    "\n",
    "text = \"Bitcoin is having a great day!\"\n",
    "blob = TextBlob(tweet)\n",
    "sentiment = blob.sentiment\n",
    "\n",
    "print(f\"Polarity: {sentiment.polarity}, Subjectivity: {sentiment.subjectivity}\")\n",
    "\n",
    "\n",
    "# Polarity is a float within the range [-1.0, 1.0], where -1 means negative sentiment and 1 means positive sentiment.\n",
    "# Subjectivity is a float within the range [0.0, 1.0] where 0.0 is very objective and 1.0 is very subjective.\n"
   ]
  },
  {
   "cell_type": "code",
   "execution_count": 1,
   "metadata": {},
   "outputs": [],
   "source": [
    "import praw\n",
    "from dotenv import load_dotenv\n",
    "import os"
   ]
  },
  {
   "cell_type": "markdown",
   "metadata": {},
   "source": [
    "## Reddit API"
   ]
  },
  {
   "cell_type": "code",
   "execution_count": 2,
   "metadata": {},
   "outputs": [
    {
     "name": "stdout",
     "output_type": "stream",
     "text": [
      "Done\n"
     ]
    }
   ],
   "source": [
    "\n",
    "\n",
    "# Load environment variables from .env file\n",
    "load_dotenv()\n",
    "\n",
    "# Access environment variables\n",
    "client_id = os.getenv('REDDIT_CLIENT_ID')\n",
    "client_secret = os.getenv('REDDIT_CLIENT_SECRET')\n",
    "user_agent = os.getenv('REDDIT_USER_AGENT')\n",
    "username = os.getenv('REDDIT_USERNAME')\n",
    "password = os.getenv('REDDIT_PASSWORD')\n",
    "\n",
    "\n",
    "\n",
    "# Initialize PRAW with your credentials\n",
    "reddit = praw.Reddit(client_id=client_id,\n",
    "                     client_secret=\tclient_secret,\n",
    "                     user_agent=user_agent,\n",
    "                     username= username,\n",
    "                     password= password)\n",
    "print('Done')\n"
   ]
  },
  {
   "cell_type": "code",
   "execution_count": null,
   "metadata": {},
   "outputs": [],
   "source": []
  },
  {
   "cell_type": "code",
   "execution_count": 4,
   "metadata": {},
   "outputs": [
    {
     "name": "stdout",
     "output_type": "stream",
     "text": [
      "Wikileaks latest insurance files don't match hashes https://www.reddit.com/r/crypto/comments/5cz1fz/wikileaks_latest_insurance_files_dont_match_hashes/\n",
      "Crypto is not cryptocurrency http://www.cryptoisnotcryptocurrency.com\n",
      "DoJ Rule 41 passively changes this Thursday, Dec 1st; Using tools like VPN or anonymizers like Tor could land you on a watch list for exploratory scanning by FBI https://www.reddit.com/r/crypto/comments/5figex/doj_rule_41_passively_changes_this_thursday_dec/\n",
      "Announcing the first SHA1 collision https://security.googleblog.com/2017/02/announcing-first-sha1-collision.html\n",
      "A sneaky attempt to end encryption is worming its way through Congress https://www.theverge.com/interface/2020/3/12/21174815/earn-it-act-encryption-killer-lindsay-graham-match-group\n",
      "The billionaire chief executive of WhatsApp, Jan Koum, is planning to leave the company after clashing with its parent, Facebook, over the popular messaging service’s strategy and Facebook’s attempts to use its personal data and weaken its encryption https://www.washingtonpost.com/business/economy/whatsapp-founder-plans-to-leave-after-broad-clashes-with-parent-facebook/2018/04/30/49448dd2-4ca9-11e8-84a0-458a1aa9ac0a_story.html\n",
      "Truecrypt shutting down?! \"development of TrueCrypt was ended in 5/2014\" http://truecrypt.sourceforge.net/\n",
      "French Police Report On Paris Attacks Shows No Evidence Of Encryption... So NY Times Invents Evidence Itself https://www.techdirt.com/articles/20160321/00392533965/french-police-report-paris-attacks-shows-no-evidence-encryption-so-ny-times-invents-evidence-itself.shtml\n",
      "The White House and Equifax Agree: Social Security Numbers Should Go -- Officials are looking into “what would be a better system” that utilizes the latest technologies, including a “modern cryptographic identifier,” such as public and private keys. https://www.bloomberg.com/news/articles/2017-10-03/white-house-and-equifax-agree-social-security-numbers-should-go\n",
      "David Cameron, Dear Leader of UK, to ban end-to-end crypto http://www.independent.co.uk/life-style/gadgets-and-tech/news/whatsapp-and-snapchat-could-be-banned-under-new-surveillance-plans-9973035.html\n"
     ]
    }
   ],
   "source": [
    "subreddit = reddit.subreddit(\"crypto\")\n",
    "\n",
    "for post in subreddit.top(limit=10):\n",
    "    print(post.title, post.url)\n"
   ]
  },
  {
   "cell_type": "code",
   "execution_count": null,
   "metadata": {},
   "outputs": [],
   "source": []
  }
 ],
 "metadata": {
  "kernelspec": {
   "display_name": "env",
   "language": "python",
   "name": "python3"
  },
  "language_info": {
   "codemirror_mode": {
    "name": "ipython",
    "version": 3
   },
   "file_extension": ".py",
   "mimetype": "text/x-python",
   "name": "python",
   "nbconvert_exporter": "python",
   "pygments_lexer": "ipython3",
   "version": "3.9.7"
  }
 },
 "nbformat": 4,
 "nbformat_minor": 2
}
