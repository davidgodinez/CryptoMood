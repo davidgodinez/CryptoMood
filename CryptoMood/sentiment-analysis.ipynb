{
 "cells": [
  {
   "cell_type": "markdown",
   "metadata": {},
   "source": [
    "## Sentiment Analysis Tool"
   ]
  },
  {
   "cell_type": "code",
   "execution_count": 3,
   "metadata": {},
   "outputs": [
    {
     "name": "stdout",
     "output_type": "stream",
     "text": [
      "Collecting textblob\n",
      "  Using cached textblob-0.18.0.post0-py3-none-any.whl.metadata (4.5 kB)\n",
      "Collecting praw\n",
      "  Downloading praw-7.7.1-py3-none-any.whl.metadata (9.8 kB)\n",
      "Collecting nltk>=3.8 (from textblob)\n",
      "  Downloading nltk-3.8.1-py3-none-any.whl.metadata (2.8 kB)\n",
      "Collecting prawcore<3,>=2.1 (from praw)\n",
      "  Downloading prawcore-2.4.0-py3-none-any.whl.metadata (5.0 kB)\n",
      "Collecting update-checker>=0.18 (from praw)\n",
      "  Downloading update_checker-0.18.0-py3-none-any.whl.metadata (2.3 kB)\n",
      "Collecting websocket-client>=0.54.0 (from praw)\n",
      "  Downloading websocket_client-1.7.0-py3-none-any.whl.metadata (7.9 kB)\n",
      "Collecting click (from nltk>=3.8->textblob)\n",
      "  Downloading click-8.1.7-py3-none-any.whl.metadata (3.0 kB)\n",
      "Collecting joblib (from nltk>=3.8->textblob)\n",
      "  Downloading joblib-1.3.2-py3-none-any.whl.metadata (5.4 kB)\n",
      "Requirement already satisfied: regex>=2021.8.3 in /Users/davidgodinez/Desktop/CryptoMood/.venv/lib/python3.11/site-packages (from nltk>=3.8->textblob) (2023.12.25)\n",
      "Collecting tqdm (from nltk>=3.8->textblob)\n",
      "  Downloading tqdm-4.66.2-py3-none-any.whl.metadata (57 kB)\n",
      "\u001b[2K     \u001b[90m━━━━━━━━━━━━━━━━━━━━━━━━━━━━━━━━━━━━━━━━\u001b[0m \u001b[32m57.6/57.6 kB\u001b[0m \u001b[31m2.2 MB/s\u001b[0m eta \u001b[36m0:00:00\u001b[0m\n",
      "\u001b[?25hRequirement already satisfied: requests<3.0,>=2.6.0 in /Users/davidgodinez/Desktop/CryptoMood/.venv/lib/python3.11/site-packages (from prawcore<3,>=2.1->praw) (2.31.0)\n",
      "Requirement already satisfied: charset-normalizer<4,>=2 in /Users/davidgodinez/Desktop/CryptoMood/.venv/lib/python3.11/site-packages (from requests<3.0,>=2.6.0->prawcore<3,>=2.1->praw) (3.3.2)\n",
      "Requirement already satisfied: idna<4,>=2.5 in /Users/davidgodinez/Desktop/CryptoMood/.venv/lib/python3.11/site-packages (from requests<3.0,>=2.6.0->prawcore<3,>=2.1->praw) (3.6)\n",
      "Requirement already satisfied: urllib3<3,>=1.21.1 in /Users/davidgodinez/Desktop/CryptoMood/.venv/lib/python3.11/site-packages (from requests<3.0,>=2.6.0->prawcore<3,>=2.1->praw) (2.2.1)\n",
      "Requirement already satisfied: certifi>=2017.4.17 in /Users/davidgodinez/Desktop/CryptoMood/.venv/lib/python3.11/site-packages (from requests<3.0,>=2.6.0->prawcore<3,>=2.1->praw) (2024.2.2)\n",
      "Downloading textblob-0.18.0.post0-py3-none-any.whl (626 kB)\n",
      "\u001b[2K   \u001b[90m━━━━━━━━━━━━━━━━━━━━━━━━━━━━━━━━━━━━━━━━\u001b[0m \u001b[32m626.3/626.3 kB\u001b[0m \u001b[31m8.3 MB/s\u001b[0m eta \u001b[36m0:00:00\u001b[0m00:01\u001b[0m:00:01\u001b[0m\n",
      "\u001b[?25hDownloading praw-7.7.1-py3-none-any.whl (191 kB)\n",
      "\u001b[2K   \u001b[90m━━━━━━━━━━━━━━━━━━━━━━━━━━━━━━━━━━━━━━━━\u001b[0m \u001b[32m191.0/191.0 kB\u001b[0m \u001b[31m16.3 MB/s\u001b[0m eta \u001b[36m0:00:00\u001b[0m\n",
      "\u001b[?25hDownloading nltk-3.8.1-py3-none-any.whl (1.5 MB)\n",
      "\u001b[2K   \u001b[90m━━━━━━━━━━━━━━━━━━━━━━━━━━━━━━━━━━━━━━━━\u001b[0m \u001b[32m1.5/1.5 MB\u001b[0m \u001b[31m28.7 MB/s\u001b[0m eta \u001b[36m0:00:00\u001b[0ma \u001b[36m0:00:01\u001b[0m\n",
      "\u001b[?25hDownloading prawcore-2.4.0-py3-none-any.whl (17 kB)\n",
      "Downloading update_checker-0.18.0-py3-none-any.whl (7.0 kB)\n",
      "Downloading websocket_client-1.7.0-py3-none-any.whl (58 kB)\n",
      "\u001b[2K   \u001b[90m━━━━━━━━━━━━━━━━━━━━━━━━━━━━━━━━━━━━━━━━\u001b[0m \u001b[32m58.5/58.5 kB\u001b[0m \u001b[31m3.0 MB/s\u001b[0m eta \u001b[36m0:00:00\u001b[0m\n",
      "\u001b[?25hDownloading click-8.1.7-py3-none-any.whl (97 kB)\n",
      "\u001b[2K   \u001b[90m━━━━━━━━━━━━━━━━━━━━━━━━━━━━━━━━━━━━━━━━\u001b[0m \u001b[32m97.9/97.9 kB\u001b[0m \u001b[31m12.2 MB/s\u001b[0m eta \u001b[36m0:00:00\u001b[0m\n",
      "\u001b[?25hDownloading joblib-1.3.2-py3-none-any.whl (302 kB)\n",
      "\u001b[2K   \u001b[90m━━━━━━━━━━━━━━━━━━━━━━━━━━━━━━━━━━━━━━━━\u001b[0m \u001b[32m302.2/302.2 kB\u001b[0m \u001b[31m16.1 MB/s\u001b[0m eta \u001b[36m0:00:00\u001b[0m\n",
      "\u001b[?25hDownloading tqdm-4.66.2-py3-none-any.whl (78 kB)\n",
      "\u001b[2K   \u001b[90m━━━━━━━━━━━━━━━━━━━━━━━━━━━━━━━━━━━━━━━━\u001b[0m \u001b[32m78.3/78.3 kB\u001b[0m \u001b[31m7.2 MB/s\u001b[0m eta \u001b[36m0:00:00\u001b[0m\n",
      "\u001b[?25hInstalling collected packages: websocket-client, tqdm, joblib, click, update-checker, prawcore, nltk, textblob, praw\n",
      "Successfully installed click-8.1.7 joblib-1.3.2 nltk-3.8.1 praw-7.7.1 prawcore-2.4.0 textblob-0.18.0.post0 tqdm-4.66.2 update-checker-0.18.0 websocket-client-1.7.0\n",
      "Note: you may need to restart the kernel to use updated packages.\n"
     ]
    }
   ],
   "source": [
    "pip install textblob praw"
   ]
  },
  {
   "cell_type": "code",
   "execution_count": 4,
   "metadata": {},
   "outputs": [
    {
     "name": "stdout",
     "output_type": "stream",
     "text": [
      "Polarity: 0.6666666666666666, Subjectivity: 0.6666666666666666\n"
     ]
    }
   ],
   "source": [
    "# Using Textblob to analyze sentiment example\n",
    "from textblob import TextBlob\n",
    "\n",
    "text = \"I THINK dodgecoin is great! I'm so excited to buy more!\"\n",
    "blob = TextBlob(text)\n",
    "sentiment = blob.sentiment\n",
    "\n",
    "print(f\"Polarity: {sentiment.polarity}, Subjectivity: {sentiment.subjectivity}\")\n",
    "\n",
    "\n",
    "# Polarity is a float within the range [-1.0, 1.0], where -1 means negative sentiment and 1 means positive sentiment.\n",
    "# Subjectivity is a float within the range [0.0, 1.0] where 0.0 is very objective and 1.0 is very subjective.\n"
   ]
  },
  {
   "cell_type": "markdown",
   "metadata": {},
   "source": [
    "## Twitter API"
   ]
  },
  {
   "cell_type": "code",
   "execution_count": null,
   "metadata": {},
   "outputs": [],
   "source": [
    "import requests\n",
    "import os\n",
    "from dotenv import load_dotenv\n",
    "\n",
    "\n",
    "load_dotenv()\n",
    "# Now you can access your environment variable securely\n",
    "bearer_token = os.getenv('TWITTER_BEARER_TOKEN')\n",
    "\n",
    "\n",
    "\n",
    "def create_headers(bearer_token):\n",
    "    headers = {\"Authorization\": \"Bearer {}\".format(bearer_token)}\n",
    "    return headers\n",
    "\n",
    "def create_url():\n",
    "    hashtag = \"%23crypto\"\n",
    "    exclude_phrases = \"-\\\"signing up\\\" -\\\"receive tokens\\\" -giveaway\"\n",
    "    additional_keywords = \"\\\"crypto\\\" OR \\\"cryptocurrency\\\"\"\n",
    "    language = \"lang:en\"\n",
    "    # Ensure proper spacing and logical grouping\n",
    "    query = f\"{hashtag} {exclude_phrases} {additional_keywords} {language}\"\n",
    "    # Forming the URL\n",
    "    url = f\"https://api.twitter.com/2/tweets/search/recent?query={query}&tweet.fields=author_id,created_at\"\n",
    "    return url\n",
    "\n",
    "\n",
    "def connect_to_endpoint(url, headers):\n",
    "    response = requests.request(\"GET\", url, headers=headers)\n",
    "    if response.status_code != 200:\n",
    "        raise Exception(response.status_code, response.text)\n",
    "    return response.json()\n",
    "\n"
   ]
  },
  {
   "cell_type": "code",
   "execution_count": null,
   "metadata": {},
   "outputs": [],
   "source": [
    "# Set up the URL and headers\n",
    "url = create_url()\n",
    "headers = create_headers(bearer_token)\n",
    "\n",
    "# Make the request\n",
    "json_response = connect_to_endpoint(url, headers)\n",
    "\n",
    "# Print the response\n",
    "print(json_response)\n"
   ]
  },
  {
   "cell_type": "code",
   "execution_count": null,
   "metadata": {},
   "outputs": [],
   "source": [
    "# storing tweet\n",
    "import sqlite3\n",
    "\n",
    "# Connect to SQLite database (or create it if it doesn't exist)\n",
    "conn = sqlite3.connect('crypto_tweets.db')\n",
    "c = conn.cursor()\n",
    "\n",
    "# Create a table to store tweets\n",
    "c.execute('''CREATE TABLE IF NOT EXISTS tweets\n",
    "             (id TEXT PRIMARY KEY, author_id TEXT, created_at TEXT, text TEXT)''')\n",
    "\n",
    "conn.commit()\n",
    "\n"
   ]
  },
  {
   "cell_type": "code",
   "execution_count": null,
   "metadata": {},
   "outputs": [],
   "source": [
    "def insert_tweet_data(json_response):\n",
    "    tweets = json_response.get('data', [])\n",
    "    for tweet in tweets:\n",
    "        c.execute('INSERT OR IGNORE INTO tweets (id, author_id, created_at, text) VALUES (?, ?, ?, ?)',\n",
    "                  (tweet['id'], tweet['author_id'], tweet['created_at'], tweet['text']))\n",
    "\n",
    "    conn.commit()\n",
    "\n",
    "insert_tweet_data(json_response)\n"
   ]
  },
  {
   "cell_type": "code",
   "execution_count": null,
   "metadata": {},
   "outputs": [],
   "source": [
    "c.execute('SELECT * FROM tweets')\n",
    "for row in c.fetchall():\n",
    "    print(row)\n"
   ]
  },
  {
   "cell_type": "code",
   "execution_count": null,
   "metadata": {},
   "outputs": [],
   "source": [
    "c.execute('SELECT COUNT (*) FROM tweets')\n",
    "print(c.fetchone()[0])"
   ]
  },
  {
   "cell_type": "code",
   "execution_count": null,
   "metadata": {},
   "outputs": [],
   "source": [
    "import pandas as pd\n",
    "import sqlite3\n",
    "\n",
    "# Connect to your SQLite database\n",
    "conn = sqlite3.connect('crypto_tweets.db')\n",
    "\n",
    "# SQL query to select all tweets\n",
    "query = \"SELECT * FROM tweets\"\n",
    "\n",
    "# Load the results of the query into a DataFrame\n",
    "tweets_df = pd.read_sql_query(query, conn)\n",
    "\n",
    "# Close the connection\n",
    "conn.close()\n",
    "\n",
    "# Now you can work with the tweets_df DataFrame\n",
    "print(tweets_df.head())\n"
   ]
  },
  {
   "cell_type": "code",
   "execution_count": null,
   "metadata": {},
   "outputs": [],
   "source": [
    "# Example: Count tweets by author_id\n",
    "tweet_counts = tweets_df['author_id'].value_counts()\n",
    "print(tweet_counts.head())\n",
    "\n",
    "# Example: Simple sentiment analysis (assuming you have a 'sentiment' column)\n",
    "# You might need to calculate this column beforehand\n",
    "if 'sentiment' in tweets_df.columns:\n",
    "    average_sentiment = tweets_df['sentiment'].mean()\n",
    "    print(f\"Average Sentiment: {average_sentiment}\")\n"
   ]
  },
  {
   "cell_type": "code",
   "execution_count": null,
   "metadata": {},
   "outputs": [],
   "source": [
    "tweets_df['text'] = tweets_df['text'].astype(str)\n",
    "print(tweets_df['text'][0])"
   ]
  },
  {
   "cell_type": "code",
   "execution_count": null,
   "metadata": {},
   "outputs": [],
   "source": [
    "from textblob import TextBlob\n",
    "\n",
    "\n",
    "tweet = tweets_df['text'].iloc[-1]\n",
    "print(tweet)\n",
    "\n",
    "tweet_sentiment = TextBlob(tweet).sentiment\n",
    "print(tweet_sentiment)"
   ]
  },
  {
   "cell_type": "code",
   "execution_count": null,
   "metadata": {},
   "outputs": [],
   "source": [
    "# Using Textblob to analyze sentiment example\n",
    "\n",
    "\n",
    "blob = TextBlob(tweet)\n",
    "sentiment = blob.sentiment\n",
    "\n",
    "print(f\"Polarity: {sentiment.polarity}, Subjectivity: {sentiment.subjectivity}\")\n",
    "\n",
    "\n",
    "# Polarity is a float within the range [-1.0, 1.0], where -1 means negative sentiment and 1 means positive sentiment.\n",
    "# Subjectivity is a float within the range [0.0, 1.0] where 0.0 is very objective and 1.0 is very subjective.\n"
   ]
  },
  {
   "cell_type": "code",
   "execution_count": null,
   "metadata": {},
   "outputs": [],
   "source": [
    "import praw\n",
    "from dotenv import load_dotenv\n",
    "import os"
   ]
  },
  {
   "cell_type": "markdown",
   "metadata": {},
   "source": [
    "## Reddit API"
   ]
  },
  {
   "cell_type": "code",
   "execution_count": null,
   "metadata": {},
   "outputs": [],
   "source": [
    "\n",
    "\n",
    "# Load environment variables from .env file\n",
    "load_dotenv()\n",
    "\n",
    "# Access environment variables\n",
    "client_id = os.getenv('REDDIT_CLIENT_ID')\n",
    "client_secret = os.getenv('REDDIT_CLIENT_SECRET')\n",
    "user_agent = os.getenv('REDDIT_USER_AGENT')\n",
    "username = os.getenv('REDDIT_USERNAME')\n",
    "password = os.getenv('REDDIT_PASSWORD')\n",
    "\n",
    "\n",
    "\n",
    "# Initialize PRAW with your credentials\n",
    "reddit = praw.Reddit(client_id=client_id,\n",
    "                     client_secret=\tclient_secret,\n",
    "                     user_agent=user_agent,\n",
    "                     username= username,\n",
    "                     password= password)\n",
    "print('Done')\n"
   ]
  },
  {
   "cell_type": "code",
   "execution_count": null,
   "metadata": {},
   "outputs": [],
   "source": [
    "subreddit = reddit.subreddit(\"crypto\")\n",
    "\n",
    "for post in subreddit.top(limit=10):\n",
    "    print(post.title, post.url)\n"
   ]
  }
 ],
 "metadata": {
  "kernelspec": {
   "display_name": "env",
   "language": "python",
   "name": "python3"
  },
  "language_info": {
   "codemirror_mode": {
    "name": "ipython",
    "version": 3
   },
   "file_extension": ".py",
   "mimetype": "text/x-python",
   "name": "python",
   "nbconvert_exporter": "python",
   "pygments_lexer": "ipython3",
   "version": "3.11.5"
  }
 },
 "nbformat": 4,
 "nbformat_minor": 2
}
