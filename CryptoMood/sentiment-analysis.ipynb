{
 "cells": [
  {
   "cell_type": "markdown",
   "metadata": {},
   "source": [
    "## Sentiment Analysis Tool"
   ]
  },
  {
   "cell_type": "code",
   "execution_count": 16,
   "metadata": {},
   "outputs": [
    {
     "name": "stdout",
     "output_type": "stream",
     "text": [
      "Polarity: 0.6666666666666666, Subjectivity: 0.6666666666666666\n"
     ]
    }
   ],
   "source": [
    "# Using Textblob to analyze sentiment example\n",
    "from textblob import TextBlob\n",
    "\n",
    "text = \"I THINK dodgecoin is great! I'm so excited to buy more!\"\n",
    "blob = TextBlob(text)\n",
    "sentiment = blob.sentiment\n",
    "\n",
    "print(f\"Polarity: {sentiment.polarity}, Subjectivity: {sentiment.subjectivity}\")\n",
    "\n",
    "\n",
    "# Polarity is a float within the range [-1.0, 1.0], where -1 means negative sentiment and 1 means positive sentiment.\n",
    "# Subjectivity is a float within the range [0.0, 1.0] where 0.0 is very objective and 1.0 is very subjective.\n"
   ]
  },
  {
   "cell_type": "markdown",
   "metadata": {},
   "source": [
    "## Twitter API"
   ]
  },
  {
   "cell_type": "code",
   "execution_count": 17,
   "metadata": {},
   "outputs": [],
   "source": [
    "import requests\n",
    "import os\n",
    "from dotenv import load_dotenv\n",
    "\n",
    "\n",
    "load_dotenv()\n",
    "# Now you can access your environment variable securely\n",
    "bearer_token = os.getenv('TWITTER_BEARER_TOKEN')\n",
    "\n",
    "\n",
    "\n",
    "def create_headers(bearer_token):\n",
    "    headers = {\"Authorization\": \"Bearer {}\".format(bearer_token)}\n",
    "    return headers\n",
    "\n",
    "def create_url():\n",
    "    hashtag = \"%23crypto\"\n",
    "    exclude_phrases = \"-\\\"signing up\\\" -\\\"receive tokens\\\" -giveaway\"\n",
    "    additional_keywords = \"\\\"crypto\\\" OR \\\"cryptocurrency\\\"\"\n",
    "    language = \"lang:en\"\n",
    "    # Ensure proper spacing and logical grouping\n",
    "    query = f\"{hashtag} {exclude_phrases} {additional_keywords} {language}\"\n",
    "    # Forming the URL\n",
    "    url = f\"https://api.twitter.com/2/tweets/search/recent?query={query}&tweet.fields=author_id,created_at\"\n",
    "    return url\n",
    "\n",
    "\n",
    "def connect_to_endpoint(url, headers):\n",
    "    response = requests.request(\"GET\", url, headers=headers)\n",
    "    if response.status_code != 200:\n",
    "        raise Exception(response.status_code, response.text)\n",
    "    return response.json()\n",
    "\n"
   ]
  },
  {
   "cell_type": "code",
   "execution_count": 18,
   "metadata": {},
   "outputs": [
    {
     "name": "stdout",
     "output_type": "stream",
     "text": [
      "{'data': [{'edit_history_tweet_ids': ['1765974009533894865'], 'created_at': '2024-03-08T05:33:08.000Z', 'id': '1765974009533894865', 'text': 'RT @TeaSwap_org: TeaSwap will revolutionize the way you buy cryptocurrencies, making it safer, easier, and cheaper.\\n\\nWe want your input: wh…', 'author_id': '1761998509480263680'}, {'edit_history_tweet_ids': ['1765974007789019458'], 'created_at': '2024-03-08T05:33:08.000Z', 'id': '1765974007789019458', 'text': 'Like , Comment and Rt \\nif you love Dogemars $MARS 🐕💎❤️\\n\\n#Binance #Crypto #memecoin \\n$ETH $BTC $BONK $PEPE $SHIB \\n$WIF $SOL https://t.co/PWJFcB3buy', 'author_id': '1731668982569086976'}, {'edit_history_tweet_ids': ['1765974007495426189'], 'created_at': '2024-03-08T05:33:08.000Z', 'id': '1765974007495426189', 'text': \"RT @Vicki_Swift_: Telos @HelloTelos impresses with Reactor Fusion's RF Staker Rewards Event! 💰 Stakers on #TelosEVM have a golden opportuni…\", 'author_id': '1722634657001558016'}, {'edit_history_tweet_ids': ['1765974007101468934'], 'created_at': '2024-03-08T05:33:08.000Z', 'id': '1765974007101468934', 'text': 'RT @WenWifHat_Sol: Tomorrow will be another exciting day #WHY 👀 #Myro, #wif, #Bonk #GME, #WEN #Solana #crypto', 'author_id': '1763835645628481536'}, {'edit_history_tweet_ids': ['1765974006505824375'], 'created_at': '2024-03-08T05:33:08.000Z', 'id': '1765974006505824375', 'text': 'Unleashing the power of the future with $VENOM! 🔍Mark your calendars for the mainnet launch on March 18th! #crypto #Venomfoundation #VenomLaunch @Venom_network_', 'author_id': '1640017844841873411'}, {'edit_history_tweet_ids': ['1765974006140670193'], 'created_at': '2024-03-08T05:33:07.000Z', 'id': '1765974006140670193', 'text': 'RT @TeaSwap_org: TeaSwap will revolutionize the way you buy cryptocurrencies, making it safer, easier, and cheaper.\\n\\nWe want your input: wh…', 'author_id': '1576894227421827072'}, {'edit_history_tweet_ids': ['1765974006006493313'], 'created_at': '2024-03-08T05:33:07.000Z', 'id': '1765974006006493313', 'text': 'Unleashing the power of the future with $VENOM! 🔍Mark your calendars for the mainnet launch on March 18th! #crypto #Venomfoundation #VenomLaunch @Venom_network_', 'author_id': '1631205049228488710'}, {'edit_history_tweet_ids': ['1765974005444493540'], 'created_at': '2024-03-08T05:33:07.000Z', 'id': '1765974005444493540', 'text': 'RT @TeaSwap_org: TeaSwap will revolutionize the way you buy cryptocurrencies, making it safer, easier, and cheaper.\\n\\nWe want your input: wh…', 'author_id': '1751152215627010048'}, {'edit_history_tweet_ids': ['1765974004941123903'], 'created_at': '2024-03-08T05:33:07.000Z', 'id': '1765974004941123903', 'text': 'RT @TeaSwap_org: TeaSwap will revolutionize the way you buy cryptocurrencies, making it safer, easier, and cheaper.\\n\\nWe want your input: wh…', 'author_id': '1615586964849172481'}, {'edit_history_tweet_ids': ['1765974004891017718'], 'created_at': '2024-03-08T05:33:07.000Z', 'id': '1765974004891017718', 'text': '@samal2052 Wow, the environmental impact of cryptocurrency mining is concerning. I hope more sustainable solutions are implemented soon.', 'author_id': '4761973461'}], 'meta': {'newest_id': '1765974009533894865', 'oldest_id': '1765974004891017718', 'result_count': 10, 'next_token': 'b26v89c19zqg8o3fr5tenuqjlxwjpyz9hs7fvju6cmrgd'}}\n"
     ]
    }
   ],
   "source": [
    "# Set up the URL and headers\n",
    "url = create_url()\n",
    "headers = create_headers(bearer_token)\n",
    "\n",
    "# Make the request\n",
    "json_response = connect_to_endpoint(url, headers)\n",
    "\n",
    "# Print the response\n",
    "print(json_response)\n"
   ]
  },
  {
   "cell_type": "code",
   "execution_count": 19,
   "metadata": {},
   "outputs": [],
   "source": [
    "# storing tweet\n",
    "import sqlite3\n",
    "\n",
    "# Connect to SQLite database (or create it if it doesn't exist)\n",
    "conn = sqlite3.connect('crypto_tweets.db')\n",
    "c = conn.cursor()\n",
    "\n",
    "# Create a table to store tweets\n",
    "c.execute('''CREATE TABLE IF NOT EXISTS tweets\n",
    "             (id TEXT PRIMARY KEY, author_id TEXT, created_at TEXT, text TEXT)''')\n",
    "\n",
    "conn.commit()\n",
    "\n"
   ]
  },
  {
   "cell_type": "code",
   "execution_count": 20,
   "metadata": {},
   "outputs": [],
   "source": [
    "def insert_tweet_data(json_response):\n",
    "    tweets = json_response.get('data', [])\n",
    "    for tweet in tweets:\n",
    "        c.execute('INSERT OR IGNORE INTO tweets (id, author_id, created_at, text) VALUES (?, ?, ?, ?)',\n",
    "                  (tweet['id'], tweet['author_id'], tweet['created_at'], tweet['text']))\n",
    "\n",
    "    conn.commit()\n",
    "\n",
    "insert_tweet_data(json_response)\n"
   ]
  },
  {
   "cell_type": "code",
   "execution_count": 10,
   "metadata": {},
   "outputs": [
    {
     "name": "stdout",
     "output_type": "stream",
     "text": [
      "('1758835781643407742', '1758101917669167104', '2024-02-17T12:48:22.000Z', 'RT @Mazimatic: #Bitcoin is soaring high again, breaking the $50K barrier! 🚀\\n\\nAre you ready for the next big prediction? Keep your eyes on t…')\n",
      "('1758835780829536596', '1063709691484618752', '2024-02-17T12:48:22.000Z', '@bucket_protocol @cedelabs Check out this amazing project building the future of Cryptocurrency and Blockchain technology @tzibalone27 @BaedowiZacky  @LayaneThais5\\n\\n0x0f521f35566646fcd47329ceb01e11105f46305d109255236aafad0588398d56')\n",
      "('1758835780095726043', '1601513746341371906', '2024-02-17T12:48:22.000Z', \"RT @HpXentity: $hpxt #airdrop is now live!\\n\\nWe've made it as simple as possible for you to receive your airdrop tokens! Just fill in and fo…\")\n",
      "('1758835780024226212', '1758169816106463232', '2024-02-17T12:48:22.000Z', 'RT @Jessica194102: Get ready to step into the future of cryptocurrency with our captivating  3D art depicting the @Persona_Journey  project…')\n",
      "('1758835778648408450', '773288940', '2024-02-17T12:48:21.000Z', '@ice_blockchain ✅ Verifying my account on @ice_blockchain with the nickname: \"zeshankhan6445\"\\n\\n👉 Learn more about \"The Decentralized Future\" that #IceNetwork is building. 👇\\n\\n#Binance #HTX #KuCoin #OKX #Bybit #Gateio #Upbit #Crypto #Blockchain #Web3 #Altcoin #Bitcoin #Ethereum #BNB')\n",
      "('1758835777113612739', '1727703698191650816', '2024-02-17T12:48:21.000Z', 'RT @JDogs85572: Welcome to $JYDS\\n\\nJunkyard Dogs on #Solana \\n\\nPrivate sale is live.\\n\\nhttps://t.co/FJpboGfPN1\\n\\n#Crypto $SOL $JYDS $HONK #Ethe…')\n",
      "('1758835776711008521', '1758835456928821248', '2024-02-17T12:48:21.000Z', \"💥 Russia's Crypto Boom! 🚀 Bank of Russia discloses household crypto data. Median worth: $225. Cryptocurrency reshaping Russian finances. 🌐 #CryptoBoom #RussiaBanking https://t.co/iFCcTcBSZZ\")\n",
      "('1758835776606101924', '1440344437616373767', '2024-02-17T12:48:21.000Z', 'RT @HpXentity: We are pumped 🔥\\n\\nOur recent listing on @SWFTBridge has enabled us to be integrated within the @Bybit_Official #web3 ecosyste…')\n",
      "('1758835776597688679', '1430359892494209030', '2024-02-17T12:48:21.000Z', 'RT @HpXentity: We are pumped 🔥\\n\\nOur recent listing on @SWFTBridge has enabled us to be integrated within the @Bybit_Official #web3 ecosyste…')\n",
      "('1758835776593289453', '953748008356597762', '2024-02-17T12:48:21.000Z', 'New $0.01 Cryptocurrency Poised to Dominate the 2024 Bull Market Alongside Shiba Inu (SHIB) - Coinpedia Fintech News https://t.co/7oUq5F8yXN')\n",
      "('1758841213866909764', '1753390366454333440', '2024-02-17T13:09:57.000Z', 'RT @CryptoCipher_: @GuildOfHeroes_ campaign is here guys \\n\\nJoin via : https://t.co/oRvPJRon5V \\n\\nFor every move there is a reward to earn\\n\\nS…')\n",
      "('1758841211085807801', '1426170414', '2024-02-17T13:09:57.000Z', '✅ Verifying my account on @ice_blockchain with the nickname: \"rincessub\"\\n\\n👉 Learn more about \"The Decentralized Future\" that #IceNetwork is building. 👇\\n\\n#Binance #HTX #KuCoin #OKX #Bybit #Gateio #Upbit #Crypto #Blockchain #Web3 #Altcoin #Bitcoin #Ethereum #BNB https://t.co/aYtwko16DW')\n",
      "('1758841210477719812', '1727508789518331904', '2024-02-17T13:09:56.000Z', '@Junecrypt @100xAltcoinGems Baby Troll, Where Adorableness Meets Pure Ferocity in Crypto!\\n\\nBaby Troll:\\nhttps://t.co/cObckNQ6ds\\n\\n0x6ec07DbD9311975b8002079d70C6F6d9E3e1EE5C\\n\\nThe launch on February 18 at 2:00 pm UTC.\\n\\nWeb:https://t.co/6j2gL0mVp8\\nX:https://t.co/GYLW5g2xXO \\n\\n#BabyTroll #DeFi #Crypto')\n",
      "('1758841209827574173', '1758837574133583872', '2024-02-17T13:09:56.000Z', \"RT @DeeprFinance: 🚀 Get ready! Staking on https://t.co/OL15PV1GWh kicks off today at 6 PM CET! 🚀\\n\\nDon't miss out on this opportunity to ear…\")\n",
      "('1758841207067750640', '1739819219410472960', '2024-02-17T13:09:56.000Z', 'RT @trader__sam: #CKB $CKB\\n\\nHold this level then target would be green lines..\\n\\nGood for a quick scalp...🤙\\n\\n#CKB #Crypto #cryptocurrency ht…')\n",
      "('1758841205666754788', '1606190075599097856', '2024-02-17T13:09:55.000Z', 'RT @NFTLucas_: 1 Winner $SOL or $ETH 🔔24 Hours⏰\\n\\n- RT + Like🔔\\n- Comment \"Done\"\\n\\n#Crypto #memecoin')\n",
      "('1758841205662646366', '1606190075599097856', '2024-02-17T13:09:55.000Z', 'RT @NickNFTn: 1 Winner $ETH or $SOL • 24 Hours\\n\\n• RT + Like 🔔\\n• Comment \"Done\"\\n\\n#Crypto #Memecoin')\n",
      "('1758841205398569250', '1282381442266263552', '2024-02-17T13:09:55.000Z', 'RT @HpXentity: We are pumped 🔥\\n\\nOur recent listing on @SWFTBridge has enabled us to be integrated within the @Bybit_Official #web3 ecosyste…')\n",
      "('1758841204387553304', '1722140483890135040', '2024-02-17T13:09:55.000Z', 'RT @Esther085057307: @Ashcryptoreal Step into the future of cryptocurrency with $GTX by @GigantixWallet! With its groundbreaking NFC cold w…')\n",
      "('1758841200235155671', '1523625922783502336', '2024-02-17T13:09:54.000Z', 'RT @Esther085057307: @Ashcryptoreal Step into the future of cryptocurrency with $GTX by @GigantixWallet! With its groundbreaking NFC cold w…')\n",
      "('1758841722216562887', '1753782330035159040', '2024-02-17T13:11:58.000Z', '#Airdrop #Giveaways #Crypto #Airdrops #PrimeXBT #StarkNet #USDT #NFT #WiseCrypto\\n\\nhttps://t.co/oa65CPeTD3')\n",
      "('1758841721713037731', '1042388521', '2024-02-17T13:11:58.000Z', 'RT @ElonMuskPDA: Which #Crypto Project Will Go Parabolic? 🚀')\n",
      "('1758841717355319485', '1674013318087081984', '2024-02-17T13:11:57.000Z', 'RT @CryptoCallX100: ✅MILO THE DOG | \"The mask\"\\n\\n🔺On the border between 🍸genius and madness, ☄️MILO invites us to put on the 🔥mask of daring…')\n",
      "('1758841713068577264', '1723533799173259264', '2024-02-17T13:11:56.000Z', 'RT @BitMartExchange: Which #crypto project are you most excited about right now? 🤩')\n",
      "('1758841711630102771', '1653404904160124930', '2024-02-17T13:11:56.000Z', 'RT @bycryptomaster: 🎁 $100 Giveaway💥👀\\n\\n1⃣ Follow @MEXC_Official \\n2⃣ RT &amp; Like\\n\\nEnds in 24 Hours⏳\\n\\n#web3 #CRYPTO #Giveaway #coin #cryptocurr…')\n",
      "('1758841710434766928', '1743561516845293568', '2024-02-17T13:11:56.000Z', '@bycryptomaster @CoinsultAudits Wish me luck\\n\\n#NFT #NFTGiveaway #Crypto #BTC\\u202f\\u202f\\u202f  #ETH #CryptoCommunity')\n",
      "('1758841708748378290', '313284142', '2024-02-17T13:11:55.000Z', 'RT @sessiz_gecce: Be sure to visit #DXGM Metapark, which is equipped with the latest technology and offers a visual feast to its visitors\\n#…')\n",
      "('1758841707838288100', '1744388894710239233', '2024-02-17T13:11:55.000Z', 'RT @fundsniper_net: ♨️ New #fundraising - @sphinxdeploy\\n🚀 Funding Round\\n🚀 Total Raised: $ 2M\\n✨Category: Blockchain Service (Security)\\n📅Date…')\n",
      "('1758841707565916495', '128805596', '2024-02-17T13:11:55.000Z', 'RT @HpXentity: We are pumped 🔥\\n\\nOur recent listing on @SWFTBridge has enabled us to be integrated within the @Bybit_Official #web3 ecosyste…')\n",
      "('1758841707494273179', '1042388521', '2024-02-17T13:11:55.000Z', 'RT @MrBigWhaleREAL: Which #Crypto project are you watching this week? 👀🚀')\n",
      "('1764496782472396955', '221392071', '2024-03-04T03:43:10.000Z', \"@ferzita_05 That's fantastic news! Investing in renewable energy not only benefits the environment but also the future of cryptocurrency mining. Win-win!\")\n",
      "('1764496782006865995', '2181948111', '2024-03-04T03:43:10.000Z', '@Kaufmann75 \"Always stay vigilant and keep your private keys secure to prevent any unauthorized access to your cryptocurrency funds. Safety first!\"')\n",
      "('1764496781700735153', '1705184426802515968', '2024-03-04T03:43:10.000Z', \"What's a cryptocurrency's favorite book? The Bit-tle Prince! #CryptoComedyGold #CryptoLaughs\")\n",
      "('1764496781625209006', '1698827029142257664', '2024-03-04T03:43:10.000Z', 'Meme coin – Merge of DeFi and meme culture.\\n📈 Buy and HODL\\nWebsite: https://t.co/d3JIXGzKYr\\nTG: https://t.co/lWEF2AuL79\\nX: https://t.co/UHkGvEUp5t\\n#crypto #SmartPEPE\\n4IDLG\\n\\n#cryptocurrency #cryptomining #gem #ltc https://t.co/UgdYWkSFiZ')\n",
      "('1764496779171569906', '1723222904408571905', '2024-03-04T03:43:09.000Z', 'RT @Golden_DELTA1: @rovercrc Deeper insight into influencer performance analytics for calls on TG, X, Reddit, and more\\n\\n#OracleAI $ORACLE #…')\n",
      "('1764496776503889939', '1608330663114989568', '2024-03-04T03:43:08.000Z', 'RT @WEALTH_DELTA: Hodling $BRICK earns you $BONE, the gas for all of Shibarium. Rewards are automatically distributed to your wallet.\\n\\n#BRI…')\n",
      "('1764496774520287456', '1764434526892433408', '2024-03-04T03:43:08.000Z', 'RT @SMOGToken: Unlucky @pepecoineth 🐉🔥😆\\n\\n#Altcoins #Memecoins #Crypto #Web3 #Binance #Sol #PEPE https://t.co/fJop8mjk27')\n",
      "('1764496773589188641', '1752630573292466176', '2024-03-04T03:43:08.000Z', 'RT @ACTDeFansFi: Acet to Airdrop + 150 000 Tokens!\\n \\nOne of The Biggest Airdrops of 2023 \\n\\nTimeline to apply:\\n\\n24.11 to 8.12.2023\\n\\nGet your…')\n",
      "('1764496773572403698', '1764493600417587200', '2024-03-04T03:43:08.000Z', 'RT @HotcoinGlobal: Just holding steady won’t cut it, let your idle coins work for you! 📈\\n\\nJoin Hotcoin’s financial management 💰\\nDeposit coi…')\n",
      "('1764496772729332067', '1711815231796903936', '2024-03-04T03:43:08.000Z', 'Good morning crypto fam ☕\\n\\n#CRYPTO #BLOCKCHAIN #WEB3')\n",
      "('1764497418383405464', '1722950148957839361', '2024-03-04T03:45:41.000Z', 'RT @CRITICICEcom: 1/ 🚀 Exciting news! \\nIntroducing CRITICICE: Your ultimate SocialFi experience. \\n\\nRead more about our grand release and gr…')\n",
      "('1764497417888809274', '3018361129', '2024-03-04T03:45:41.000Z', 'Why did the cryptocurrency go to the dentist? To fix its Bit-teeth!')\n",
      "('1764497417829822772', '1749312836059168768', '2024-03-04T03:45:41.000Z', 'RT @DCryptoTools: 🚀 Unleash Your Token Dreams!  \\nDive into the #Crypto universe with our Token Generator Platform. \\n\\nLIMITED TIME: 50% OFF!…')\n",
      "('1764497417465123063', '1760996952815370241', '2024-03-04T03:45:41.000Z', 'RT @TheWignus: JUST IN: Total global #cryptocurrency market cap surpasses $2.5 trillion. 🤯')\n",
      "('1764497417255145627', '347903625', '2024-03-04T03:45:41.000Z', '@EpiRk Who knew virtual assets could hold real value? The future of gaming and cryptocurrency is here to stay! Exciting times ahead.')\n",
      "('1764497413270577599', '292515859', '2024-03-04T03:45:40.000Z', 'RT @ChineseWhaleLab: PUMP PUMP📈\\n\\nWhich #altcoin should i add to my personal wallet⁉️\\n#cryptocurrency #sol #lowcap #memes #Chineseinvesting')\n",
      "('1764497413136351679', '1723222904408571905', '2024-03-04T03:45:40.000Z', \"RT @MAYORA_DELTA: @100xAltcoinGems Oracle AI's KOL tracker compiles data for the purpose of aggregating trends\\n\\n#OracleAI $ORACLE #AI \\n\\nhtt…\")\n",
      "('1764497412133974442', '746206057', '2024-03-04T03:45:40.000Z', 'Join my telegram channel \\n👇\\nhttps://t.co/CBtzxlOkBa\\n\\n#ท่านอ่อง #USDJPY #ドル円\\n#GBPJPY #ポンド円\\n#XAUUSD #GOLD祭\\n#crypto #poupettekenza\\nJoin my telegram channel \\n👇\\nhttps://t.co/Aag3QJS4e6 my telegram channel \\n👇\\nhttps://t.co/CBtzxlOkBa https://t.co/quK7Qj2mUx')\n",
      "('1764497409642770461', '1126275541265408000', '2024-03-04T03:45:39.000Z', \"Why was the cryptocurrency always online? Because it didn't want to miss out on the Bit-action!\")\n",
      "('1764497408703201715', '1727260064493322240', '2024-03-04T03:45:39.000Z', 'RT @punk1685: In just 57 days, my #crypto wallet went from $708 to $3,612,930!\\n\\nMy skill to find x1000 low-caps, PUMPED portfolio by +975,7…')\n",
      "('1764497575904968705', '1676152857505206272', '2024-03-04T03:46:19.000Z', 'RT @stratisplatform: Announcing Stratis Auroria testnet farming campaign. 500,000 STRAX EVM to airdrop!\\n\\nJoin the airdrop now⬇️\\n\\nInfo: http…')\n",
      "('1764497575548276776', '784150780148322304', '2024-03-04T03:46:19.000Z', 'RT @coingecko: Total #crypto market cap has broken above $2.5 trillion. https://t.co/NQWOAwDSSS')\n",
      "('1764497575070277641', '1707854110425550848', '2024-03-04T03:46:19.000Z', 'RT @SMOGToken: Seeking a new experience? 🌟\\n\\nReady to embark on an epic #Memecoin adventure! 🐉\\n\\nJoin #SMOG! 💨\\n\\nDaily challenges await! 🎯\\n\\nCh…')\n",
      "('1764497572956094774', '423840693', '2024-03-04T03:46:18.000Z', '@tserenpuntsag8 LFG #crypto #tothemoon 🚀')\n",
      "('1764497572553806212', '1676144207726268417', '2024-03-04T03:46:18.000Z', 'RT @stratisplatform: Announcing Stratis Auroria testnet farming campaign. 500,000 STRAX EVM to airdrop!\\n\\nJoin the airdrop now⬇️\\n\\nInfo: http…')\n",
      "('1764497571253256657', '3351117989', '2024-03-04T03:46:18.000Z', 'RT @WatcherGuru: JUST IN: Total global cryptocurrency market cap surpasses $2.5 trillion.')\n",
      "('1764497569571610997', '1676144875832766465', '2024-03-04T03:46:18.000Z', 'RT @stratisplatform: Announcing Stratis Auroria testnet farming campaign. 500,000 STRAX EVM to airdrop!\\n\\nJoin the airdrop now⬇️\\n\\nInfo: http…')\n",
      "('1764497567100895437', '1723222904408571905', '2024-03-04T03:46:17.000Z', 'RT @LENDO_DELTA: @100xAltcoinGems Custom TG Bot\\nBeta goes live with partnered projects.\\n\\n#OracleAI #AITool\\n🚀🚀🚀🚀\\nhttps://t.co/n2I7yedXYP\\nhtt…')\n",
      "('1764497566886924531', '1406531279953166337', '2024-03-04T03:46:17.000Z', '@thecleotoken\\nThis project is very good and this projector has a lot of attractions, so hopefully the project will be better in the future and the cryptocurrency will be the best.🔥💯\\n \\n$CLEO https://t.co/ZgUhXW4A2m')\n",
      "('1764497566098489410', '1761607691896578048', '2024-03-04T03:46:17.000Z', '@fubuloubu @evan_van_ness Make 100% profits trading #binance futures(#crypto) with Accurate Trade #SIGNALS📈📊💯\\nTelegram link on my bio\\n$BTC #LUNC #ETH #VRA #binance')\n",
      "('1765964510274203903', '1645761822111436801', '2024-03-08T04:55:23.000Z', 'Unusual volume 📉 spotted on Binance $GLM spot market.\\nGLM/USDT volume experienced a 505.02% 📉 in the last 1 minute.\\n\\nPrice: $0.6564 \\nVolume: $218.53k \\nLearnMore:  https://t.co/qhZiIRuvaD \\n📖: @GeniiData \\n\\n#geniidata #crypto #bitcoin #trading #GLM https://t.co/30pla2rxoq')\n",
      "('1765964508999152003', '1545244142359412736', '2024-03-08T04:55:23.000Z', 'RT @WEALTH_DELTA: #K9 Next-Gen #DeFi Infrastructure on #Shibarium\\n\\n#KNINE #K9 $KNINE\\n#K9Finance\\n#crypto #Shibarium #SHIB #Defi #Bad #stake…')\n",
      "('1765964506214039917', '570763397', '2024-03-08T04:55:22.000Z', 'RT @HighVibeAssets: 🚨 #Xrp HOLDERS this is bigger than you think 🚨\\n\\n#Ripple seen running trails with #Nasdaq the SECOND LARGEST EXCHANGE $2…')\n",
      "('1765964505685594289', '141336302', '2024-03-08T04:55:22.000Z', '@chopperniko BitFlyer, a leading cryptocurrency exchange, was founded in Japan in 2014 and has since grown internationally.')\n",
      "('1765964501990441361', '2994735504', '2024-03-08T04:55:21.000Z', 'RT @TeaSwap_org: TeaSwap will revolutionize the way you buy cryptocurrencies, making it safer, easier, and cheaper.\\n\\nWe want your input: wh…')\n",
      "('1765964501004751192', '304335020', '2024-03-08T04:55:21.000Z', 'RT @cryptodataspace: 3/4 The #ETH #ETF will likely bring more mainstream attention and investment to the cryptocurrency space, leading to a…')\n",
      "('1765964497875796236', '1465541591003799552', '2024-03-08T04:55:20.000Z', \"RT @MrKupatso: If you're looking for a place in #crypto that is supportive of their community thru the tokenomics design and DAO structure,…\")\n",
      "('1765964497766748597', '1545244142359412736', '2024-03-08T04:55:20.000Z', 'RT @WEALTH_DELTA: @MonstersCoins I am buying #OracleAI today.\\n$Oracle will be made available for widespread access, accompanied with stakin…')\n",
      "('1765964495212470351', '1542430151874592768', '2024-03-08T04:55:20.000Z', 'RT @TeaSwap_org: TeaSwap will revolutionize the way you buy cryptocurrencies, making it safer, easier, and cheaper.\\n\\nWe want your input: wh…')\n",
      "('1765964491311681736', '1517917272072880128', '2024-03-08T04:55:19.000Z', 'RT @TeaSwap_org: TeaSwap will revolutionize the way you buy cryptocurrencies, making it safer, easier, and cheaper.\\n\\nWe want your input: wh…')\n"
     ]
    }
   ],
   "source": [
    "c.execute('SELECT * FROM tweets')\n",
    "for row in c.fetchall():\n",
    "    print(row)\n"
   ]
  },
  {
   "cell_type": "code",
   "execution_count": 21,
   "metadata": {},
   "outputs": [
    {
     "name": "stdout",
     "output_type": "stream",
     "text": [
      "80\n"
     ]
    }
   ],
   "source": [
    "c.execute('SELECT COUNT (*) FROM tweets')\n",
    "print(c.fetchone()[0])"
   ]
  },
  {
   "cell_type": "code",
   "execution_count": 22,
   "metadata": {},
   "outputs": [
    {
     "name": "stdout",
     "output_type": "stream",
     "text": [
      "                    id            author_id                created_at  \\\n",
      "0  1758835781643407742  1758101917669167104  2024-02-17T12:48:22.000Z   \n",
      "1  1758835780829536596  1063709691484618752  2024-02-17T12:48:22.000Z   \n",
      "2  1758835780095726043  1601513746341371906  2024-02-17T12:48:22.000Z   \n",
      "3  1758835780024226212  1758169816106463232  2024-02-17T12:48:22.000Z   \n",
      "4  1758835778648408450            773288940  2024-02-17T12:48:21.000Z   \n",
      "\n",
      "                                                text  \n",
      "0  RT @Mazimatic: #Bitcoin is soaring high again,...  \n",
      "1  @bucket_protocol @cedelabs Check out this amaz...  \n",
      "2  RT @HpXentity: $hpxt #airdrop is now live!\\n\\n...  \n",
      "3  RT @Jessica194102: Get ready to step into the ...  \n",
      "4  @ice_blockchain ✅ Verifying my account on @ice...  \n"
     ]
    }
   ],
   "source": [
    "import pandas as pd\n",
    "import sqlite3\n",
    "\n",
    "# Connect to your SQLite database\n",
    "conn = sqlite3.connect('crypto_tweets.db')\n",
    "\n",
    "# SQL query to select all tweets\n",
    "query = \"SELECT * FROM tweets\"\n",
    "\n",
    "# Load the results of the query into a DataFrame\n",
    "tweets_df = pd.read_sql_query(query, conn)\n",
    "\n",
    "# Close the connection\n",
    "conn.close()\n",
    "\n",
    "# Now you can work with the tweets_df DataFrame\n",
    "print(tweets_df.head())\n"
   ]
  },
  {
   "cell_type": "code",
   "execution_count": 23,
   "metadata": {},
   "outputs": [
    {
     "name": "stdout",
     "output_type": "stream",
     "text": [
      "author_id\n",
      "1723222904408571905    3\n",
      "1545244142359412736    2\n",
      "1606190075599097856    2\n",
      "1042388521             2\n",
      "1707854110425550848    1\n",
      "Name: count, dtype: int64\n"
     ]
    }
   ],
   "source": [
    "# Example: Count tweets by author_id\n",
    "tweet_counts = tweets_df['author_id'].value_counts()\n",
    "print(tweet_counts.head())\n",
    "\n",
    "# Example: Simple sentiment analysis (assuming you have a 'sentiment' column)\n",
    "# You might need to calculate this column beforehand\n",
    "if 'sentiment' in tweets_df.columns:\n",
    "    average_sentiment = tweets_df['sentiment'].mean()\n",
    "    print(f\"Average Sentiment: {average_sentiment}\")\n"
   ]
  },
  {
   "cell_type": "code",
   "execution_count": 24,
   "metadata": {},
   "outputs": [
    {
     "name": "stdout",
     "output_type": "stream",
     "text": [
      "RT @stratisplatform: Announcing Stratis Auroria testnet farming campaign. 500,000 STRAX EVM to airdrop!\n",
      "\n",
      "Join the airdrop now⬇️\n",
      "\n",
      "Info: http…\n"
     ]
    }
   ],
   "source": [
    "tweets_df['text'] = tweets_df['text'].astype(str)\n",
    "print(tweets_df['text'][50])"
   ]
  },
  {
   "cell_type": "code",
   "execution_count": 25,
   "metadata": {},
   "outputs": [
    {
     "name": "stdout",
     "output_type": "stream",
     "text": [
      "@samal2052 Wow, the environmental impact of cryptocurrency mining is concerning. I hope more sustainable solutions are implemented soon.\n",
      "Sentiment(polarity=0.3, subjectivity=0.75)\n"
     ]
    }
   ],
   "source": [
    "from textblob import TextBlob\n",
    "\n",
    "\n",
    "tweet = tweets_df['text'].iloc[-1]\n",
    "print(tweet)\n",
    "\n",
    "tweet_sentiment = TextBlob(tweet).sentiment\n",
    "print(tweet_sentiment)"
   ]
  },
  {
   "cell_type": "code",
   "execution_count": null,
   "metadata": {},
   "outputs": [],
   "source": [
    "import praw\n",
    "from dotenv import load_dotenv\n",
    "import os"
   ]
  },
  {
   "cell_type": "markdown",
   "metadata": {},
   "source": [
    "## Reddit API"
   ]
  },
  {
   "cell_type": "code",
   "execution_count": null,
   "metadata": {},
   "outputs": [],
   "source": [
    "import praw\n",
    "from dotenv import load_dotenv\n",
    "import os\n",
    "\n",
    "# Load environment variables from .env file\n",
    "load_dotenv()\n",
    "\n",
    "# Access environment variables\n",
    "client_id = os.getenv('REDDIT_CLIENT_ID')\n",
    "client_secret = os.getenv('REDDIT_CLIENT_SECRET')\n",
    "user_agent = os.getenv('REDDIT_USER_AGENT')\n",
    "username = os.getenv('REDDIT_USERNAME')\n",
    "password = os.getenv('REDDIT_PASSWORD')\n",
    "\n",
    "\n",
    "\n",
    "# Initialize PRAW with your credentials\n",
    "reddit = praw.Reddit(client_id=client_id,\n",
    "                     client_secret=\tclient_secret,\n",
    "                     user_agent=user_agent,\n",
    "                     username= username,\n",
    "                     password= password)\n",
    "print('Done')\n"
   ]
  },
  {
   "cell_type": "code",
   "execution_count": null,
   "metadata": {},
   "outputs": [],
   "source": [
    "subreddit = reddit.subreddit(\"crypto\")\n",
    "\n",
    "for post in subreddit.top(limit=10):\n",
    "    print(post.title, post.url)\n"
   ]
  },
  {
   "cell_type": "code",
   "execution_count": null,
   "metadata": {},
   "outputs": [],
   "source": []
  }
 ],
 "metadata": {
  "kernelspec": {
   "display_name": "env",
   "language": "python",
   "name": "python3"
  },
  "language_info": {
   "codemirror_mode": {
    "name": "ipython",
    "version": 3
   },
   "file_extension": ".py",
   "mimetype": "text/x-python",
   "name": "python",
   "nbconvert_exporter": "python",
   "pygments_lexer": "ipython3",
   "version": "3.11.5"
  }
 },
 "nbformat": 4,
 "nbformat_minor": 2
}
