{
 "cells": [
  {
   "cell_type": "code",
   "execution_count": null,
   "metadata": {},
   "outputs": [],
   "source": [
    "import mplfinance as mpf\n",
    "import pandas as pd\n",
    "from binance.client import Client\n",
    "import os \n",
    "\n",
    "api_key = os.getenv(\"BINANCE_API_KEY\")\n",
    "api_secret = os.getenv(\"BINANCE_API_SECRET\")\n",
    "\n",
    "# Initialize the Binance client\n",
    "client = Client(api_key, api_secret, testnet=True)\n",
    "\n",
    "# Get historical candlestick data\n",
    "candles = client.futures_klines(symbol='BTCUSDT', interval=Client.KLINE_INTERVAL_1DAY, limit=100)\n",
    "\n",
    "# Create a Pandas DataFrame and set the column names\n",
    "columns = ['Open time', 'Open', 'High', 'Low', 'Close', 'Volume', 'Close time', \n",
    "           'Quote asset volume', 'Number of trades', 'Taker buy base asset volume', \n",
    "           'Taker buy quote asset volume', 'Ignore']\n",
    "df = pd.DataFrame(candles, columns=columns)\n",
    "\n",
    "# Convert timestamp to datetime and set it as index\n",
    "df['Open time'] = pd.to_datetime(df['Open time'], unit='ms')\n",
    "df.set_index('Open time', inplace=True)\n",
    "\n",
    "# Convert all data to float type\n",
    "for column in ['Open', 'High', 'Low', 'Close', 'Volume']:\n",
    "    df[column] = df[column].astype(float)\n",
    "\n",
    "# We only need the 'Open', 'High', 'Low', 'Close', and 'Volume' columns\n",
    "df = df[['Open', 'High', 'Low', 'Close', 'Volume']]\n",
    "\n",
    "# Plot the candlestick chart\n",
    "mpf.plot(df, type='candle', style='charles',\n",
    "         title='BTCUSDT Daily Chart',\n",
    "         volume=True)\n",
    "\n"
   ]
  }
 ],
 "metadata": {
  "language_info": {
   "name": "python"
  }
 },
 "nbformat": 4,
 "nbformat_minor": 2
}
