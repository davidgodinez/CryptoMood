{
 "cells": [
  {
   "cell_type": "code",
   "execution_count": 1,
   "metadata": {},
   "outputs": [
    {
     "ename": "ModuleNotFoundError",
     "evalue": "No module named 'mplfinance'",
     "output_type": "error",
     "traceback": [
      "\u001b[0;31m---------------------------------------------------------------------------\u001b[0m",
      "\u001b[0;31mModuleNotFoundError\u001b[0m                       Traceback (most recent call last)",
      "Cell \u001b[0;32mIn[1], line 1\u001b[0m\n\u001b[0;32m----> 1\u001b[0m \u001b[38;5;28;01mimport\u001b[39;00m \u001b[38;5;21;01mmplfinance\u001b[39;00m \u001b[38;5;28;01mas\u001b[39;00m \u001b[38;5;21;01mmpf\u001b[39;00m\n\u001b[1;32m      2\u001b[0m \u001b[38;5;28;01mimport\u001b[39;00m \u001b[38;5;21;01mpandas\u001b[39;00m \u001b[38;5;28;01mas\u001b[39;00m \u001b[38;5;21;01mpd\u001b[39;00m\n\u001b[1;32m      3\u001b[0m \u001b[38;5;28;01mfrom\u001b[39;00m \u001b[38;5;21;01mbinance\u001b[39;00m\u001b[38;5;21;01m.\u001b[39;00m\u001b[38;5;21;01mclient\u001b[39;00m \u001b[38;5;28;01mimport\u001b[39;00m Client\n",
      "\u001b[0;31mModuleNotFoundError\u001b[0m: No module named 'mplfinance'"
     ]
    }
   ],
   "source": [
    "import mplfinance as mpf\n",
    "import pandas as pd\n",
    "from binance.client import Client\n",
    "import os "
   ]
  },
  {
   "cell_type": "code",
   "execution_count": null,
   "metadata": {},
   "outputs": [
    {
     "ename": "",
     "evalue": "",
     "output_type": "error",
     "traceback": [
      "\u001b[1;31mThe kernel failed to start as the Python Environment 'env' is no longer available. Consider selecting another kernel or refreshing the list of Python Environments."
     ]
    }
   ],
   "source": [
    "\n",
    "api_key = os.getenv(\"BINANCE_API_KEY\")\n",
    "api_secret = os.getenv(\"BINANCE_API_SECRET\")\n",
    "\n",
    "# Initialize the Binance client\n",
    "client = Client(api_key, api_secret, testnet=True)\n",
    "\n",
    "# Get historical candlestick data\n",
    "candles = client.futures_klines(symbol='BTCUSDT', interval=Client.KLINE_INTERVAL_1DAY, limit=100)\n",
    "\n",
    "# Create a Pandas DataFrame and set the column names\n",
    "columns = ['Open time', 'Open', 'High', 'Low', 'Close', 'Volume', 'Close time', \n",
    "           'Quote asset volume', 'Number of trades', 'Taker buy base asset volume', \n",
    "           'Taker buy quote asset volume', 'Ignore']\n",
    "df = pd.DataFrame(candles, columns=columns)\n",
    "\n",
    "# Convert timestamp to datetime and set it as index\n",
    "df['Open time'] = pd.to_datetime(df['Open time'], unit='ms')\n",
    "df.set_index('Open time', inplace=True)\n",
    "\n",
    "# Convert all data to float type\n",
    "for column in ['Open', 'High', 'Low', 'Close', 'Volume']:\n",
    "    df[column] = df[column].astype(float)\n",
    "\n",
    "# We only need the 'Open', 'High', 'Low', 'Close', and 'Volume' columns\n",
    "df = df[['Open', 'High', 'Low', 'Close', 'Volume']]\n",
    "\n",
    "# Plot the candlestick chart\n",
    "mpf.plot(df, type='candle', style='charles',\n",
    "         title='BTCUSDT Daily Chart',\n",
    "         volume=True)\n",
    "\n"
   ]
  },
  {
   "cell_type": "code",
   "execution_count": null,
   "metadata": {},
   "outputs": [],
   "source": []
  }
 ],
 "metadata": {
  "kernelspec": {
   "display_name": "env",
   "language": "python",
   "name": "python3"
  },
  "language_info": {
   "codemirror_mode": {
    "name": "ipython",
    "version": 3
   },
   "file_extension": ".py",
   "mimetype": "text/x-python",
   "name": "python",
   "nbconvert_exporter": "python",
   "pygments_lexer": "ipython3",
   "version": "3.11.5"
  }
 },
 "nbformat": 4,
 "nbformat_minor": 2
}
